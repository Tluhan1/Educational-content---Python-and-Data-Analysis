{
 "cells": [
  {
   "cell_type": "markdown",
   "metadata": {},
   "source": [
    "# **Python Tutorial - Release 3.7.0**"
   ]
  },
  {
   "cell_type": "markdown",
   "metadata": {},
   "source": [
    "## **0. Content:**"
   ]
  },
  {
   "attachments": {
    "image.png": {
     "image/png": "[encoded data removed]"
    }
   },
   "cell_type": "markdown",
   "metadata": {},
   "source": [
    "![image.png](attachment:image.png)"
   ]
  },
  {
   "cell_type": "markdown",
   "metadata": {},
   "source": [
    "### **0.1. About Python:**\n",
    "- **Python** is an easy to learn, powerful programming language. It has efficient high-level **data structures** and a simple but effective approach to **object-oriented programming**.\n",
    "\n",
    "- **Python**’s **elegant syntax** and **dynamic typing**, together with its interpreted nature, make it an **ideal language** for scripting and rapid application development in many areas on most platforms.\n",
    "\n",
    "- The **Python interpreter** and the extensive **standard library** are freely available in **source** or **binary** form for all major platforms from the Python Web site.\n",
    "\n",
    "- **Python** is also **suitable** as an extension language for **customizable applications**.\n",
    "\n",
    "- **Python** is an **interpreted language**, which can save you considerable time during program development because no **compilation** and **linking** is necessary --> The interpreter can be used **interactively**, which makes it easy to: \n",
    "   . **Experiment** with **features** of the language, \n",
    "   . **Write** throw-away programs, \n",
    "   . **Test** functions during bottom-up program development. \n",
    "\n",
    "- **Python** enables programs to be written **compactly and readably** --> much shorter than equivalent C, C++, or Java programs, for several reasons: <br/>\n",
    "   . The **high-level data types** allow you to express complex operations in a **single statement**; <br/>\n",
    "   . **Statement grouping** is done by **indentation** instead of beginning and ending brackets; <br/>\n",
    "   . No **variable** or **argument** declarations are necessary."
   ]
  },
  {
   "cell_type": "markdown",
   "metadata": {},
   "source": [
    "### **0.2. More about Python:**\n",
    "- **Python** is simple to use, but it is a real programming language, offering much more **structure** and **support** for large programs than shell scripts or batch files can offer. \n",
    "- **Python** also offers much more **error checking** than C, and, being a very-high-level language, it has **high-level data types** built in, such as **flexible arrays and dictionaries**.\n",
    "\n",
    "- This tutorial introduces the reader informally to the **basic concepts** and **features** of the **Python language and system**, and therefore gives a good idea of the language’s **flavor** and **style**.\n",
    "\n",
    "- **Python** allows you to **split** your program into **modules** that can be **reused** in other Python programs. --> It comes with a **large collection** of **standard modules** that you can use as the basis of your programs: Some of these modules provide things like: <br/>\n",
    "   . **File I/O**, <br/>\n",
    "   . **System calls**, <br/>\n",
    "   . **Sockets**, <br/>\n",
    "   . **Interfaces** to **GUI** toolkits (e.g. Tk) <br/>\n",
    "   . **Etc.**\n",
    "   \n",
    "- **Python** is **extensible**: if you know how to program in C it is easy to add a new built-in function or module to the interpreter, either to **perform critical operations at maximum speed**, or to **link Python programs to libraries** that may only be available in binary form (such as a vendor-specific graphics library). "
   ]
  },
  {
   "cell_type": "markdown",
   "metadata": {},
   "source": [
    "### **0.3. Invoking the python interpreter from command line:**"
   ]
  },
  {
   "cell_type": "markdown",
   "metadata": {},
   "source": [
    "To invoke the **interpreter** in **command line** type the keywork \"py\" (for Python3, for Python2 use \"python\").\n",
    "- To **start** the interpreter: <br/>\n",
    "    py - enter                        \n",
    "    commands <br/>\n",
    "- To **exit** the interpreter: <br/> \n",
    "    quit()\n",
    "\n",
    "**NB:**<br/> \n",
    "If instead of commands we wish to run a script from a python file we can either **navigate to the folder** where the file is located from the command line or **specify the path** of the file:\n",
    "\n",
    "- **Running of a direct command (in an interacting way):** <br/>\n",
    "  py - enter <br/>\n",
    "  print(\"Hello Thierry\")\n",
    "\n",
    "- **Running a Python file by navigating to the folder:** <br/>\n",
    "  cd path of file.py <br/>\n",
    "  py file.py\n",
    "\n",
    "- **Running a Python file by specifying the path:** <br/>\n",
    "  py path of the file\\file.py\n",
    "\n",
    "**NB:** For more on running python code from terminal:\n",
    "https://www.wikihow.com/Use-Windows-Command-Prompt-to-Run-a-Python-File"
   ]
  },
  {
   "cell_type": "markdown",
   "metadata": {},
   "source": [
    "### **0.4. Argument Passing when invoking interpreter:**"
   ]
  },
  {
   "cell_type": "markdown",
   "metadata": {},
   "source": [
    "When known to the interpreter, the **script name** and **additional arguments** thereafter are turned into a list\n",
    "of strings and assigned to the **argv** variable in the sys module. \n",
    "\n",
    "You can access this list by executing **import\n",
    "sys**. <br/> \n",
    "--> The arguments are listed in sys.argv with sys.argv[0] the python file <br/>\n",
    "--> The length of the list is at least one, and when no script and no arguments are given, sys.argv[0] is an empty string. <br/>\n",
    "\n",
    "**NB:**\n",
    "- When -c command is used, sys.argv[0] is set to '-c'.\n",
    "- When -m module is used, sys.argv[0] is set to the full name of the located module. \n",
    "- Options found after -c command or -m module are not consumed by the Python interpreter’s option processing but left in sys.argv for the command or module to handle."
   ]
  },
  {
   "cell_type": "markdown",
   "metadata": {},
   "source": [
    "## **1. An informal Introduction to Python:**"
   ]
  },
  {
   "cell_type": "markdown",
   "metadata": {},
   "source": [
    "In **command line**, **input** and **output** are distinguished by the presence or absence of prompts (>>> and …): "
   ]
  },
  {
   "attachments": {
    "image.png": {
     "image/png": "[encoded data removed]"
    }
   },
   "cell_type": "markdown",
   "metadata": {},
   "source": [
    "![image.png](attachment:image.png)"
   ]
  },
  {
   "cell_type": "markdown",
   "metadata": {},
   "source": [
    "### **1.1. Basic Math:**\n",
    "The **Python interpreter** can be used as a **CALCULATOR**: <br/>\n",
    "- Addition:       +\n",
    "- Subtraction:    - \n",
    "- Multiplication: *\n",
    "- Division:       /\n",
    "- Floor divition: //\n",
    "- Modulus:        %\n",
    "- Exponent:       **\n",
    "- Round:          round(x,n) --> round x to n decimals \n",
    "- Variable names can be used but if not use the last printed value is stored in \"_\" \n",
    "  \n",
    "**NB:** In addition to **int** and **float**, Python supports other types of numbers, such as **Decimal** and **Fraction**. Python also has built-in support for **complex numbers**, and uses the j or J suffix to indicate the imaginary part\n"
   ]
  },
  {
   "cell_type": "markdown",
   "metadata": {},
   "source": [
    "### **1.2. Strings manipulation:**\n",
    "The **Python interpreter** can be used for **string manipulation** and **display**: <br/>\n",
    "- Strings can be enclosed in single quotes ('...') or double quotes (\"...\") with the same result \\ can be used to escape quotes\n",
    "- \"\\n\" means new line\n",
    "- It can also be stored in variables\n",
    "- To escape \\n: one can use r before a quote:"
   ]
  },
  {
   "cell_type": "code",
   "execution_count": 8,
   "metadata": {},
   "outputs": [
    {
     "name": "stdout",
     "output_type": "stream",
     "text": [
      "Thierry loves Jesus\n",
      "Thierry loves Jesus\n",
      "Thierry's loves for Jesus\n",
      "Thierry's loves for Jesus\n",
      "\n",
      "Thierry\n",
      "loves\n",
      "Jesus\n",
      "Thierry loves Jesus \n",
      "\n",
      "C:\\some\n",
      "ame\n",
      "C:\\some\\name\n"
     ]
    }
   ],
   "source": [
    "print('Thierry loves Jesus')\n",
    "print(\"Thierry loves Jesus\")\n",
    "print('Thierry\\'s loves for Jesus')\n",
    "print(\"Thierry\\'s loves for Jesus\\n\")\n",
    "print(\"Thierry\\nloves\\nJesus\")\n",
    "str1 = 'Thierry loves Jesus'\n",
    "print(str1,'\\n')\n",
    "str2 = 'C:\\some\\name'\n",
    "print(str2)\n",
    "str3 = r'C:\\some\\name'\n",
    "print(str3)"
   ]
  },
  {
   "cell_type": "markdown",
   "metadata": {},
   "source": [
    "**String literals** can span **multiple lines**. One way is using **triple-quotes**: \"\"\"...\"\"\" or '''...'''. \n",
    "**NB:** End of lines are automatically included in the string, but it’s possible to prevent this by adding a \\ at the end of the line."
   ]
  },
  {
   "cell_type": "code",
   "execution_count": 13,
   "metadata": {},
   "outputs": [
    {
     "name": "stdout",
     "output_type": "stream",
     "text": [
      "Thierry\n",
      "Usage: thingy [OPTIONS]\n",
      "     -h Display this usage message\n",
      "     -H hostname Hostname to connect to\n",
      "\n",
      "Thierry\n",
      "\n",
      "Usage: thingy [OPTIONS]\n",
      "     -h Display this usage message\n",
      "     -H hostname Hostname to connect to\n",
      "\n"
     ]
    }
   ],
   "source": [
    "print(\"Thierry\")\n",
    "print('''\\\n",
    "Usage: thingy [OPTIONS]\n",
    "     -h Display this usage message\n",
    "     -H hostname Hostname to connect to\n",
    "''')\n",
    "\n",
    "print(\"Thierry\")\n",
    "print('''\n",
    "Usage: thingy [OPTIONS]\n",
    "     -h Display this usage message\n",
    "     -H hostname Hostname to connect to\n",
    "''')"
   ]
  },
  {
   "cell_type": "markdown",
   "metadata": {},
   "source": [
    "- **Strings** can be **concatenated** (glued together) with the + operator, and repeated with '*':\n",
    "- Two or more string literals (i.e. the ones enclosed between quotes) next to each other are **automatically concatenated**."
   ]
  },
  {
   "cell_type": "code",
   "execution_count": 16,
   "metadata": {},
   "outputs": [
    {
     "data": {
      "text/plain": [
       "'Thierry loves Jesus'"
      ]
     },
     "execution_count": 16,
     "metadata": {},
     "output_type": "execute_result"
    }
   ],
   "source": [
    "'Thie'+'rry'+' loves '+'Jesus'"
   ]
  },
  {
   "cell_type": "code",
   "execution_count": 17,
   "metadata": {},
   "outputs": [
    {
     "name": "stdout",
     "output_type": "stream",
     "text": [
      "Thierry loves Jesus\n"
     ]
    }
   ],
   "source": [
    "print('Thie'+'rry'+' loves '+'Jesus')"
   ]
  },
  {
   "cell_type": "code",
   "execution_count": 30,
   "metadata": {},
   "outputs": [
    {
     "name": "stdout",
     "output_type": "stream",
     "text": [
      "Thierry loves Jesus! Thierry loves Jesus! Thierry loves Jesus! \n"
     ]
    }
   ],
   "source": [
    "print('Thierry loves Jesus! '*3)"
   ]
  },
  {
   "cell_type": "code",
   "execution_count": 18,
   "metadata": {},
   "outputs": [
    {
     "data": {
      "text/plain": [
       "'Thierry loves Jesus'"
      ]
     },
     "execution_count": 18,
     "metadata": {},
     "output_type": "execute_result"
    }
   ],
   "source": [
    "'Thie''rry'' loves ''Jesus'"
   ]
  },
  {
   "cell_type": "code",
   "execution_count": 19,
   "metadata": {},
   "outputs": [
    {
     "name": "stdout",
     "output_type": "stream",
     "text": [
      "Thierry loves Jesus\n"
     ]
    }
   ],
   "source": [
    "print('Thie''rry'' loves ''Jesus')"
   ]
  },
  {
   "cell_type": "code",
   "execution_count": 22,
   "metadata": {},
   "outputs": [
    {
     "name": "stdout",
     "output_type": "stream",
     "text": [
      "Thierry loves Jesus. Thierry loves his family.\n"
     ]
    }
   ],
   "source": [
    "text = ('Thierry loves Jesus.'' Thierry loves his family.')\n",
    "print(text)"
   ]
  },
  {
   "cell_type": "markdown",
   "metadata": {},
   "source": [
    "**NB:** But it will not work if you want to put together a **literal** and a **variable**: Then we need to use +:"
   ]
  },
  {
   "cell_type": "code",
   "execution_count": 25,
   "metadata": {},
   "outputs": [
    {
     "ename": "SyntaxError",
     "evalue": "invalid syntax (<ipython-input-25-f65371c24b8d>, line 2)",
     "output_type": "error",
     "traceback": [
      "\u001b[1;36m  File \u001b[1;32m\"<ipython-input-25-f65371c24b8d>\"\u001b[1;36m, line \u001b[1;32m2\u001b[0m\n\u001b[1;33m    print(str4 'loves Jesus')\u001b[0m\n\u001b[1;37m                           ^\u001b[0m\n\u001b[1;31mSyntaxError\u001b[0m\u001b[1;31m:\u001b[0m invalid syntax\n"
     ]
    }
   ],
   "source": [
    "str4 = \"Thierry \"\n",
    "print(str4 'loves Jesus')"
   ]
  },
  {
   "cell_type": "code",
   "execution_count": 26,
   "metadata": {},
   "outputs": [
    {
     "name": "stdout",
     "output_type": "stream",
     "text": [
      "Thierry loves Jesus\n"
     ]
    }
   ],
   "source": [
    "str4 = \"Thierry \"\n",
    "print(str4+'loves Jesus')"
   ]
  },
  {
   "cell_type": "markdown",
   "metadata": {},
   "source": [
    "**NB:** **Strings** can be indexed (subscripted), with the first character having index 0. Note that there is no separate **character type**; a character is simply a **string of size one**:\n",
    "- When using **positive indices**, we start at 0 and end at len-1, and it goes from left to right\n",
    "- When using **negative indices**, we start at -1 and end at -len, and it goes from right to left\n",
    "- In addition to **indexing** (used to obtain individual characters), **slicing** is also supported to obtain **substrings**\n",
    "- For **non-negative indices**, the **length** of a slice is the **difference of the indices**, if both are within bounds. For example, the length of Word[1:3] is 2.\n",
    "- The built-in function **len()** returns the **length** of a **string**."
   ]
  },
  {
   "cell_type": "code",
   "execution_count": 31,
   "metadata": {},
   "outputs": [
    {
     "name": "stdout",
     "output_type": "stream",
     "text": [
      "P\n",
      "y\n",
      "t\n",
      "h\n",
      "o\n",
      "n\n"
     ]
    }
   ],
   "source": [
    "Word = 'Python'\n",
    "print(Word[0])\n",
    "print(Word[1])\n",
    "print(Word[2])\n",
    "print(Word[3])\n",
    "print(Word[4])\n",
    "print(Word[5])"
   ]
  },
  {
   "cell_type": "code",
   "execution_count": 32,
   "metadata": {},
   "outputs": [
    {
     "name": "stdout",
     "output_type": "stream",
     "text": [
      "n\n",
      "o\n",
      "h\n",
      "t\n",
      "y\n",
      "P\n"
     ]
    }
   ],
   "source": [
    "print(Word[-1])\n",
    "print(Word[-2])\n",
    "print(Word[-3])\n",
    "print(Word[-4])\n",
    "print(Word[-5])\n",
    "print(Word[-6])"
   ]
  },
  {
   "cell_type": "code",
   "execution_count": 35,
   "metadata": {},
   "outputs": [
    {
     "name": "stdout",
     "output_type": "stream",
     "text": [
      "Python\n",
      "Py\n",
      "tho\n",
      "Py\n",
      "thon\n",
      "Python\n"
     ]
    }
   ],
   "source": [
    "print(Word)\n",
    "print(Word[0:2])\n",
    "print(Word[2:5])\n",
    "print(Word[:2])\n",
    "print(Word[2:])\n",
    "print(Word[:2]+Word[2:])"
   ]
  },
  {
   "cell_type": "code",
   "execution_count": 36,
   "metadata": {},
   "outputs": [
    {
     "name": "stdout",
     "output_type": "stream",
     "text": [
      "Py\n",
      "on\n",
      "on\n"
     ]
    }
   ],
   "source": [
    "print(Word[:2])\n",
    "print(Word[4:])\n",
    "print(Word[-2:])"
   ]
  },
  {
   "cell_type": "markdown",
   "metadata": {},
   "source": [
    "**NB:** One way to remember how slices work is to think of the indices as **pointing between characters**, with the left edge of the first character numbered 0. Then the right edge of the last character of a string of n characters has index n, for example:"
   ]
  },
  {
   "attachments": {
    "image.png": {
     "image/png": "[encoded data removed]"
    }
   },
   "cell_type": "markdown",
   "metadata": {},
   "source": [
    "![image.png](attachment:image.png)"
   ]
  },
  {
   "cell_type": "code",
   "execution_count": 37,
   "metadata": {},
   "outputs": [
    {
     "name": "stdout",
     "output_type": "stream",
     "text": [
      "6\n",
      "3\n"
     ]
    }
   ],
   "source": [
    "print(len(Word))\n",
    "print(len(Word[2:5]))"
   ]
  },
  {
   "cell_type": "markdown",
   "metadata": {},
   "source": [
    "#### **More strings operations:**"
   ]
  },
  {
   "attachments": {
    "image.png": {
     "image/png": "[encoded data removed]"
    }
   },
   "cell_type": "markdown",
   "metadata": {},
   "source": [
    "![image.png](attachment:image.png)"
   ]
  },
  {
   "attachments": {
    "image.png": {
     "image/png": "[encoded data removed]"
    }
   },
   "cell_type": "markdown",
   "metadata": {},
   "source": [
    "![image.png](attachment:image.png)"
   ]
  },
  {
   "attachments": {
    "image.png": {
     "image/png": "[encoded data removed]"
    }
   },
   "cell_type": "markdown",
   "metadata": {},
   "source": [
    "![image.png](attachment:image.png)"
   ]
  },
  {
   "cell_type": "markdown",
   "metadata": {},
   "source": [
    "## **1.3. Lists:**"
   ]
  },
  {
   "cell_type": "markdown",
   "metadata": {},
   "source": [
    "**Python** knows a number of **compound data types**, used to group together other values:\n",
    "- The **most versatile** is the **list**, which can be written as a list of comma-separated values (items) between square brackets. \n",
    "- **Lists** might contain **items of different types**, but usually the items all have the same type.\n",
    "- Like strings (and all other **built-in sequence type**), lists can be **indexed** and **sliced**.\n",
    "- All **slice operations** return a **new list** containing the requested elements. This means that the following slice returns a new (**shallow**) copy of the list.\n",
    "- **Lists** also support **concatenation**.\n",
    "- Unlike strings, which are **immutable**, lists are a **mutable** type, i.e. it is possible to change their content.\n",
    "- You can also add new items at the end of the list, by using the append()"
   ]
  },
  {
   "cell_type": "code",
   "execution_count": 44,
   "metadata": {},
   "outputs": [
    {
     "name": "stdout",
     "output_type": "stream",
     "text": [
      "[1, 4, 9, 16, 25]\n",
      "1\n",
      "25\n",
      "[9, 16, 25]\n",
      "[1, 4, 9, 16, 25]\n",
      "[1, 4, 9, 16, 25, 10, 20, 30, 40]\n",
      "[1, 4, 9, 16, 25, 100]\n"
     ]
    }
   ],
   "source": [
    "lst = [1, 4, 9, 16, 25]\n",
    "print(lst)\n",
    "print(lst[0])\n",
    "print(lst[-1])\n",
    "print(lst[-3:])\n",
    "print(lst[:])\n",
    "print(lst+[10,20,30,40])\n",
    "lst.append(100)\n",
    "print(lst)"
   ]
  },
  {
   "cell_type": "markdown",
   "metadata": {},
   "source": [
    "- Assignment to slices is also possible, and this can even change the size of the list or clear it entirely.\n",
    "- The built-in function len() also applies to lists.\n",
    "- A list can be multi-dimensional"
   ]
  },
  {
   "cell_type": "code",
   "execution_count": 48,
   "metadata": {},
   "outputs": [
    {
     "name": "stdout",
     "output_type": "stream",
     "text": [
      "['a', 'b', 'c', 'd', 'e', 'f', 'g']\n",
      "7 \n",
      "\n",
      "['a', 'b', 'C', 'D', 'E', 'f', 'g']\n",
      "7 \n",
      "\n",
      "['a', 'b', 'f', 'g']\n",
      "4 \n",
      "\n",
      "[]\n",
      "0 \n",
      "\n",
      "[['a', 'b', 'c'], [1, 2, 3]]\n",
      "['a', 'b', 'c']\n",
      "b\n"
     ]
    }
   ],
   "source": [
    "letters = ['a', 'b', 'c', 'd', 'e', 'f', 'g']\n",
    "print(letters)\n",
    "print(len(letters),'\\n')\n",
    "\n",
    "# replace some values\n",
    "letters[2:5] = ['C', 'D', 'E']\n",
    "print(letters)\n",
    "print(len(letters),'\\n')\n",
    "\n",
    "# now remove them\n",
    "letters[2:5] = []\n",
    "print(letters)\n",
    "print(len(letters),'\\n')\n",
    "\n",
    "# clear the list by replacing all the elements with an empty list\n",
    "letters[:] = []\n",
    "print(letters)\n",
    "print(len(letters),'\\n')\n",
    "\n",
    "# 2D list:\n",
    "a = ['a', 'b', 'c']\n",
    "n = [1, 2, 3]\n",
    "x = [a, n]\n",
    "print(x)\n",
    "print(x[0])\n",
    "print(x[0][1])"
   ]
  },
  {
   "cell_type": "markdown",
   "metadata": {},
   "source": [
    "### **1.4. First Steps Towards Programming:**"
   ]
  },
  {
   "cell_type": "markdown",
   "metadata": {},
   "source": [
    "**Script** for an intial subsequnce of a **Fibonacci series**"
   ]
  },
  {
   "cell_type": "code",
   "execution_count": 49,
   "metadata": {},
   "outputs": [
    {
     "name": "stdout",
     "output_type": "stream",
     "text": [
      "0\n",
      "1\n",
      "1\n",
      "2\n",
      "3\n",
      "5\n",
      "8\n"
     ]
    }
   ],
   "source": [
    "a,b = 0,1         # Python supports multiple assignement\n",
    "while a < 10:\n",
    "    print(a)      # The body of the loop is indented: indentation is Python’s way of grouping statements. At the interactive\n",
    "                  # prompt, you have to type a tab or space(s) for each indented line. In practice you will prepare more\n",
    "                  # complicated input for Python with a text editor; all decent text editors have an auto-indent facility.\n",
    "    a,b = b,a+b"
   ]
  },
  {
   "cell_type": "markdown",
   "metadata": {},
   "source": [
    "**NB:** The keyword argument **end** can be used to avoid the newline after the output, or end the output with a different string:"
   ]
  },
  {
   "cell_type": "code",
   "execution_count": 51,
   "metadata": {},
   "outputs": [
    {
     "name": "stdout",
     "output_type": "stream",
     "text": [
      "0, 1, 1, 2, 3, 5, 8, 13, 21, 34, 55, 89, 144, 233, 377, 610, 987, "
     ]
    }
   ],
   "source": [
    "a, b = 0, 1\n",
    "while a < 1000:\n",
    "    print(a, end=', ')\n",
    "    a, b = b, a+b"
   ]
  },
  {
   "cell_type": "markdown",
   "metadata": {},
   "source": [
    "## **2. More control flow tools:**"
   ]
  },
  {
   "cell_type": "markdown",
   "metadata": {},
   "source": [
    "### **2.1. if Statements:**\n",
    "- It is perhaps the **most well-known** statement type is the **if statement**.\n",
    "- There can be zero or more **elif** parts, and the **else** part is optional. The keyword **‘elif’** is short for **‘else if’**, and is useful to avoid excessive indentation."
   ]
  },
  {
   "cell_type": "code",
   "execution_count": 52,
   "metadata": {},
   "outputs": [
    {
     "name": "stdin",
     "output_type": "stream",
     "text": [
      "Please enter an integer:  48\n"
     ]
    },
    {
     "name": "stdout",
     "output_type": "stream",
     "text": [
      "More\n"
     ]
    }
   ],
   "source": [
    "x = int(input(\"Please enter an integer: \"))\n",
    "if x < 0:\n",
    "    x = 0\n",
    "    print('Negative changed to zero')\n",
    "elif x == 0:\n",
    "    print('Zero')\n",
    "elif x == 1:\n",
    "    print('Single')\n",
    "else:\n",
    "    print('More')"
   ]
  },
  {
   "cell_type": "markdown",
   "metadata": {},
   "source": [
    "### **2.2. for Statements:**\n",
    "- The **for statement** in Python differs a bit from what you may be used to in C or Pascal: Rather than always iterating over an arithmetic progression of numbers (like in Pascal), or giving the user the ability to define both the iteration step and halting condition (as C), Python’s for statement iterates over the items of any sequence (a list or a string), in the order that they appear in the sequence."
   ]
  },
  {
   "cell_type": "code",
   "execution_count": 54,
   "metadata": {},
   "outputs": [
    {
     "name": "stdout",
     "output_type": "stream",
     "text": [
      "cat 3\n",
      "window 6\n",
      "defenestrate 12\n",
      "Thierry 7\n",
      "Python 6\n"
     ]
    }
   ],
   "source": [
    "words = ['cat', 'window', 'defenestrate','Thierry','Python']\n",
    "for w in words:\n",
    "    print(w, len(w))"
   ]
  },
  {
   "cell_type": "markdown",
   "metadata": {},
   "source": [
    "- If you need to modify the sequence you are iterating over while inside the loop (for example to duplicate selected items), it is recommended that you first **make a copy**. Iterating over a sequence does not implicitly make a copy. The slice notation makes this especially convenient --> if we use **\"for w in words:\"** rather than **\"for w in words[:]:\"**, the example would attempt to create an infinite list, inserting defenestrate over and over again."
   ]
  },
  {
   "cell_type": "code",
   "execution_count": 1,
   "metadata": {},
   "outputs": [
    {
     "name": "stdout",
     "output_type": "stream",
     "text": [
      "['cat', 'window', 'defenestrate', 'Thierry', 'Python']\n",
      "['Thierry', 'defenestrate', 'cat', 'window', 'defenestrate', 'Thierry', 'Python']\n"
     ]
    }
   ],
   "source": [
    "words = ['cat', 'window', 'defenestrate','Thierry','Python']\n",
    "print(words)\n",
    "for w in words[:]: # Loop over a slice copy of the entire list.\n",
    "    if len(w) > 6:\n",
    "        words.insert(0, w)\n",
    "print(words)"
   ]
  },
  {
   "cell_type": "markdown",
   "metadata": {},
   "source": [
    "### **2.3. The range() Function:**\n",
    "- If you do need to iterate over a sequence of numbers, the built-in function **range()** comes in handy. It generates **arithmetic progressions**\n",
    "- The given **end point** is never part of the generated sequence; range(10) generates 10 values: 0...9. \n",
    "- It is also possible to let the range **start** at another number, or to specify a **different increment** (even negative; sometimes this is called the ‘step’)\n",
    "- To **iterate** over the **indices** of a sequence, you can combine **range()** and **len()**  together.\n",
    "\n",
    "**NB:** In most such cases, however, it is more convenient to use the **enumerate()** function that will be seen later in **looping techniques**."
   ]
  },
  {
   "cell_type": "code",
   "execution_count": 11,
   "metadata": {},
   "outputs": [
    {
     "name": "stdout",
     "output_type": "stream",
     "text": [
      "0,1,2,3,4,5,6,7,8,9,\n",
      "\n",
      "5,6,7,8,9,\n",
      "\n",
      "2,4,6,8,\n",
      "\n",
      "Mary, had, a, little, lamb, \n",
      "\n",
      "Mary, had, a, little, lamb, \n",
      "\n",
      "0   Mary\n",
      "1   had\n",
      "2   a\n",
      "3   little\n",
      "4   lamb\n"
     ]
    }
   ],
   "source": [
    "for i in range(10):\n",
    "    print(i,end=',')\n",
    "print('\\n')\n",
    "\n",
    "for i in range(5,10):\n",
    "    print(i,end=',')\n",
    "print('\\n')\n",
    "    \n",
    "for i in range(2,10,2):\n",
    "    print(i,end=',')\n",
    "print('\\n')\n",
    "\n",
    "words = ['Mary', 'had', 'a', 'little', 'lamb']\n",
    "for w in words:\n",
    "    print(w,end=', ')\n",
    "print('\\n')\n",
    "\n",
    "words = ['Mary', 'had', 'a', 'little', 'lamb']\n",
    "for i in range(len(words)):\n",
    "    print(words[i],end=', ')\n",
    "print('\\n')\n",
    "    \n",
    "words = ['Mary', 'had', 'a', 'little', 'lamb']\n",
    "for i in range(len(words)):\n",
    "    print(i,' ',words[i])"
   ]
  },
  {
   "cell_type": "markdown",
   "metadata": {},
   "source": [
    "**NB:** The range() object returns by **range()** behaves as if it is a **list**, but in fact it isn’t: <br/> \n",
    "--> It is an object which returns the **successive items** of the desired **sequence** when you iterate over it, but it doesn’t really make the list, thus saving space. <br/>\n",
    "--> We say such an object is **iterable**, that is, suitable as a target for functions and constructs that expect something from which they can **obtain successive items** until the supply is exhausted. <br/>\n",
    "- The **\"for statement\"** is such an **iterator**. <br/>\n",
    "- The **function list()** is another: it creates **lists** from **iterable**. <br/>\n",
    "\n",
    "**NB:** Later we will see **more functions** that return **iterables** and take **iterables** as **argument**."
   ]
  },
  {
   "cell_type": "code",
   "execution_count": 13,
   "metadata": {},
   "outputs": [
    {
     "name": "stdout",
     "output_type": "stream",
     "text": [
      "0,1,2,3,4,5,6,7,8,9,\n",
      "\n",
      "[0, 1, 2, 3, 4, 5, 6, 7, 8, 9]\n"
     ]
    }
   ],
   "source": [
    "for i in range(10):\n",
    "    print(i,end=',')\n",
    "print('\\n')\n",
    "\n",
    "print(list(range(10)))"
   ]
  },
  {
   "cell_type": "markdown",
   "metadata": {},
   "source": [
    "### **2.4. break and continue Statements, and else Clauses on Loops:**"
   ]
  },
  {
   "cell_type": "markdown",
   "metadata": {},
   "source": [
    "- The **break statement**, like in C, breaks out of the **innermost enclosing for** or **while loop**.\n",
    "- **Loop statements** may have an **else** clause; it is executed when the **loop terminates** through exhaustion of the list (with for) or when the condition becomes false (with while), but not when the loop is terminated by a break statement.\n",
    "\n",
    "**NB:** When used with a **loop**, the **else** clause has more in common with the else clause of a **try statement** than it does that of **if statements**: \n",
    "- A **try statement**’s else clause runs when **no exception occurs**, and \n",
    "- A **loop**’s else clause runs when **no break occurs**. <br/> \n",
    "\n",
    "--> For more on the **try statement** and **exceptions**, see **Handling Exceptions**."
   ]
  },
  {
   "cell_type": "code",
   "execution_count": 16,
   "metadata": {},
   "outputs": [
    {
     "name": "stdout",
     "output_type": "stream",
     "text": [
      "2 is a prime number\n",
      "3 is a prime number\n",
      "5 is a prime number\n",
      "7 is a prime number\n"
     ]
    }
   ],
   "source": [
    "for n in range(2, 10):\n",
    "    for x in range(2, n):\n",
    "        if n % x == 0:\n",
    "#             print(n, 'equals', x, '*', n//x)\n",
    "            break\n",
    "    else: # loop fell through without finding a factor\n",
    "        print(n, 'is a prime number')"
   ]
  },
  {
   "cell_type": "markdown",
   "metadata": {},
   "source": [
    "**NB:** The **continue statement**, also borrowed from C, **continues** with the **next iteration** of the loop --> useful to avoid an unecessary **else** clause:"
   ]
  },
  {
   "cell_type": "code",
   "execution_count": 20,
   "metadata": {},
   "outputs": [
    {
     "name": "stdout",
     "output_type": "stream",
     "text": [
      "Found an even number 2\n",
      "Found an even number 4\n",
      "Found an even number 6\n",
      "Found an even number 8\n"
     ]
    }
   ],
   "source": [
    "for num in range(2, 10,2):\n",
    "    if num % 2 == 0:\n",
    "        print(\"Found an even number\", num)\n",
    "        continue\n",
    "    print(\"Found a number\", num)"
   ]
  },
  {
   "cell_type": "markdown",
   "metadata": {},
   "source": [
    "### **2.5. pass Statements:**"
   ]
  },
  {
   "cell_type": "markdown",
   "metadata": {},
   "source": [
    "- The **pass statement** does nothing. It can be used when a **statement** is required syntactically but the program requires **no action**:"
   ]
  },
  {
   "attachments": {
    "image.png": {
     "image/png": "[encoded data removed]"
    }
   },
   "cell_type": "markdown",
   "metadata": {},
   "source": [
    "![image.png](attachment:image.png)"
   ]
  },
  {
   "cell_type": "markdown",
   "metadata": {},
   "source": [
    "- The **pass statement** is commonly used for creating **minimal classes**:"
   ]
  },
  {
   "attachments": {
    "image.png": {
     "image/png": "[encoded data removed]"
    }
   },
   "cell_type": "markdown",
   "metadata": {},
   "source": [
    "![image.png](attachment:image.png)"
   ]
  },
  {
   "cell_type": "markdown",
   "metadata": {},
   "source": [
    "- Another place pass can be used is as a **place-holder** for a function or conditional body when you are working on new code, allowing you to keep thinking at a more abstract level. The pass is silently ignored:"
   ]
  },
  {
   "attachments": {
    "image.png": {
     "image/png": "[encoded data removed]"
    }
   },
   "cell_type": "markdown",
   "metadata": {},
   "source": [
    "![image.png](attachment:image.png)"
   ]
  },
  {
   "cell_type": "markdown",
   "metadata": {},
   "source": [
    "### **2.6. Defining Functions:**"
   ]
  },
  {
   "cell_type": "markdown",
   "metadata": {},
   "source": [
    "- The keyword **def** introduces a **function definition**. \n",
    "- It must be followed by the **function name** and the **parenthesized** list of formal **parameters**. \n",
    "- The **statements** that form the **body** of the function start at the **next line**, and must be **indented**.\n",
    "- The **first statement** of the **function body** can optionally be a **string literal**; this string literal is the function’s **documentation string**, or **docstring**.\n",
    "  - There are **tools** which use **docstrings** to automatically produce **online** or **printed documentation**, or to let the user **interactively browse** through code.\n",
    "  - NB: It’s **good practice** to include **docstrings** in code that you write, so make a habit of it.\n",
    "\n",
    "- The **execution** of a **function** introduces a new **symbol table** used for the **local variables** of the function: ** All **variable** assignments in a function store the value in the **local symbol table**; whereas **variable references**:\n",
    "  - First look in the **local symbol table**, \n",
    "  - Then in the **local symbol tables of enclosing functions**, \n",
    "  - Then in the **global symbol table**, and\n",
    "  - Finally in the **table of built-in names**. \n",
    "Thus, **global variables** cannot be directly assigned a value within a function (unless named in a **global statement**), although they may be **referenced**.\n",
    "\n",
    "- The actual **parameters** (**arguments**) to a function call are introduced in the **local symbol table** of the called function when it is called --> thus, **arguments** are passed using **call by value** (where the value is always an object reference, not the value of the object). \n",
    "\n",
    "**NB:**\n",
    "- When a **function calls another function**, a new **local symbol table** is created for that call.\n",
    "- A **function definition** introduces the function name in the **current symbol table**:\n",
    "  - The **value** of the **function name** has a type that is recognized by the interpreter as a **user-defined function**. \n",
    "  - This **value** can be assigned to **another name** which can then also be used as a **function** --> This serves as a general **renaming mechanism**."
   ]
  },
  {
   "cell_type": "markdown",
   "metadata": {},
   "source": [
    "**Example** of a function that writes the **Fibonacci series** to an arbitrary boundary **n**:"
   ]
  },
  {
   "cell_type": "code",
   "execution_count": 11,
   "metadata": {},
   "outputs": [
    {
     "name": "stdout",
     "output_type": "stream",
     "text": [
      "0 1 1 2 3 5 8 13 21 34 55 89 144 233 377 610 987 1597 "
     ]
    }
   ],
   "source": [
    "def fib(n): # write Fibonacci series up to n\n",
    "    \"\"\"Print a Fibonacci series up to n.\"\"\"\n",
    "    a, b = 0, 1\n",
    "    while a < n:\n",
    "        print(a, end=' ')\n",
    "        a, b = b, a+b\n",
    "#     print()\n",
    "fib(2000)"
   ]
  },
  {
   "cell_type": "code",
   "execution_count": 12,
   "metadata": {},
   "outputs": [
    {
     "data": {
      "text/plain": [
       "<function __main__.fib(n)>"
      ]
     },
     "execution_count": 12,
     "metadata": {},
     "output_type": "execute_result"
    }
   ],
   "source": [
    "fib"
   ]
  },
  {
   "cell_type": "code",
   "execution_count": 13,
   "metadata": {},
   "outputs": [
    {
     "name": "stdout",
     "output_type": "stream",
     "text": [
      "0 1 1 2 3 5 8 13 21 34 55 89 "
     ]
    }
   ],
   "source": [
    "f = fib\n",
    "f(100)"
   ]
  },
  {
   "cell_type": "markdown",
   "metadata": {},
   "source": [
    "Even **functions without a return statement** do return a value: This value is called **None** (it’s a built-in name). <br/>\n",
    "\n",
    "Writing the value **None** is normally suppressed by the interpreter if it would be the only value written. You can see it if you really want to using **print()**."
   ]
  },
  {
   "cell_type": "code",
   "execution_count": 17,
   "metadata": {},
   "outputs": [],
   "source": [
    "fib(0)"
   ]
  },
  {
   "cell_type": "code",
   "execution_count": 14,
   "metadata": {},
   "outputs": [
    {
     "name": "stdout",
     "output_type": "stream",
     "text": [
      "None\n"
     ]
    }
   ],
   "source": [
    "print(fib(0))"
   ]
  },
  {
   "cell_type": "markdown",
   "metadata": {},
   "source": [
    "It is simple to write a **function** that returns a **list** of the numbers of the **Fibonacci series**, instead of printing it:\n",
    "- We need to use the **return** statement (without which the function will **by default** return **None**).\n",
    "- The statement **result.append(a)** calls a method of the **list object** \"result\". (A method is a function that ‘belongs’ to an object and is named obj.methodname, where obj is some object) --> it is equivalent to **result = result + [a]**, but **more efficient**."
   ]
  },
  {
   "cell_type": "code",
   "execution_count": 21,
   "metadata": {},
   "outputs": [
    {
     "name": "stdout",
     "output_type": "stream",
     "text": [
      "None\n"
     ]
    }
   ],
   "source": [
    "def fib2(n): # return Fibonacci series up to n\n",
    "    \"\"\"Return a list containing the Fibonacci series up to n.\"\"\"\n",
    "    result = []\n",
    "    a, b = 0, 1\n",
    "    while a < n:\n",
    "        result.append(a) # see below\n",
    "        a, b = b, a+b\n",
    "#     return result\n",
    "\n",
    "f2 = fib2(100) # call it\n",
    "print(f2) # write the"
   ]
  },
  {
   "cell_type": "code",
   "execution_count": 22,
   "metadata": {},
   "outputs": [
    {
     "name": "stdout",
     "output_type": "stream",
     "text": [
      "[0, 1, 1, 2, 3, 5, 8, 13, 21, 34, 55, 89]\n"
     ]
    }
   ],
   "source": [
    "def fib3(n): # return Fibonacci series up to n\n",
    "    \"\"\"Return a list containing the Fibonacci series up to n.\"\"\"\n",
    "    result = []\n",
    "    a, b = 0, 1\n",
    "    while a < n:\n",
    "        result.append(a) # see below\n",
    "        a, b = b, a+b\n",
    "    return result\n",
    "\n",
    "f3 = fib3(100) # call it\n",
    "print(f3) # write the"
   ]
  },
  {
   "cell_type": "markdown",
   "metadata": {},
   "source": [
    "### **2.7. More on Defining Functions:**"
   ]
  },
  {
   "cell_type": "markdown",
   "metadata": {},
   "source": [
    "It is also possible to **define functions** with a variable number of arguments. There are **three forms**, which can be combined:"
   ]
  },
  {
   "cell_type": "markdown",
   "metadata": {},
   "source": [
    "#### **2.7.1. Default Argument Values:**\n",
    "- It is the **most useful** form of argument. It specifies a default value for one or more arguments. This creates a **function** that can be called with **fewer arguments** than it is defined to allow.\n",
    "- The example below shows a function that can be **called** in **several ways**:\n",
    "  - giving only the mandatory argument: **ask_ok('Do you really want to quit?')**\n",
    "  - giving one of the optional arguments: **ask_ok('OK to overwrite the file?', 2)**\n",
    "  - or even giving all arguments: **ask_ok('OK to overwrite the file?', 2, 'Come on, only yes or no!')** \n",
    "\n",
    "**NB:** In a function call, **keyword arguments** must follow **positional arguments**."
   ]
  },
  {
   "cell_type": "code",
   "execution_count": 18,
   "metadata": {},
   "outputs": [],
   "source": [
    "def ask_ok(prompt, retries=4, reminder='Please try again!'):\n",
    "    while True:\n",
    "        ok = input(prompt)\n",
    "        if ok in ('y', 'ye', 'yes'):\n",
    "            return True\n",
    "        if ok in ('n', 'no', 'nop', 'nope'):\n",
    "            return False\n",
    "        retries = retries - 1\n",
    "        if retries < 0:\n",
    "            raise ValueError('invalid user response')\n",
    "        print(reminder)"
   ]
  },
  {
   "cell_type": "code",
   "execution_count": 5,
   "metadata": {},
   "outputs": [
    {
     "name": "stdin",
     "output_type": "stream",
     "text": [
      "Do you really want to quit? y\n"
     ]
    },
    {
     "data": {
      "text/plain": [
       "True"
      ]
     },
     "execution_count": 5,
     "metadata": {},
     "output_type": "execute_result"
    }
   ],
   "source": [
    "ask_ok('Do you really want to quit?')"
   ]
  },
  {
   "cell_type": "code",
   "execution_count": 3,
   "metadata": {},
   "outputs": [
    {
     "name": "stdin",
     "output_type": "stream",
     "text": [
      "OK to overwrite the file? y\n"
     ]
    },
    {
     "data": {
      "text/plain": [
       "True"
      ]
     },
     "execution_count": 3,
     "metadata": {},
     "output_type": "execute_result"
    }
   ],
   "source": [
    "ask_ok('OK to overwrite the file?', 2)"
   ]
  },
  {
   "cell_type": "code",
   "execution_count": 5,
   "metadata": {},
   "outputs": [
    {
     "name": "stdin",
     "output_type": "stream",
     "text": [
      "OK to overwrite the file? y\n"
     ]
    },
    {
     "data": {
      "text/plain": [
       "True"
      ]
     },
     "execution_count": 5,
     "metadata": {},
     "output_type": "execute_result"
    }
   ],
   "source": [
    "ask_ok('OK to overwrite the file?', 2, 'Come on, only yes or no!')"
   ]
  },
  {
   "cell_type": "markdown",
   "metadata": {},
   "source": [
    "**NB:** The default values are evaluated at the point of **function definition** in the **defining scope**:"
   ]
  },
  {
   "cell_type": "code",
   "execution_count": 9,
   "metadata": {},
   "outputs": [
    {
     "name": "stdout",
     "output_type": "stream",
     "text": [
      "5\n",
      "6\n"
     ]
    }
   ],
   "source": [
    "i = 5\n",
    "def f(arg=i):\n",
    "    print(arg)\n",
    "i = 6\n",
    "f()\n",
    "f(i)"
   ]
  },
  {
   "cell_type": "markdown",
   "metadata": {},
   "source": [
    "**NB:** The **default value** is evaluated only **once** --> This makes a difference when the default is a mutable object such as a list, dictionary, or instances of most classes, which will be updated from what is was the last time the function was called."
   ]
  },
  {
   "cell_type": "code",
   "execution_count": 15,
   "metadata": {},
   "outputs": [
    {
     "name": "stdout",
     "output_type": "stream",
     "text": [
      "[1]\n",
      "[1, 2]\n",
      "[1, 2, 3]\n"
     ]
    }
   ],
   "source": [
    "def f(a, L=[]):\n",
    "    L.append(a)\n",
    "    return L\n",
    "\n",
    "print(f(1))\n",
    "print(f(2))\n",
    "print(f(3))"
   ]
  },
  {
   "cell_type": "markdown",
   "metadata": {},
   "source": [
    "If you don’t want the default to be shared between subsequent calls, you can write the function like this instead:"
   ]
  },
  {
   "cell_type": "code",
   "execution_count": 17,
   "metadata": {},
   "outputs": [
    {
     "name": "stdout",
     "output_type": "stream",
     "text": [
      "[1]\n",
      "[2]\n",
      "[3]\n"
     ]
    }
   ],
   "source": [
    "def f(a, L=None):\n",
    "    if L is None:\n",
    "        L = []\n",
    "    L.append(a)\n",
    "    return L\n",
    "\n",
    "print(f(1))\n",
    "print(f(2))\n",
    "print(f(3))"
   ]
  },
  {
   "cell_type": "markdown",
   "metadata": {},
   "source": [
    "#### **2.7.2. Keyword Arguments:**\n",
    "- In a function call, **keyword arguments** must follow **positional arguments**. \n",
    "- All the **keyword arguments** passed must match one of the **arguments** accepted by the function and their **order** is **not important**. This also includes non-optional arguments. "
   ]
  },
  {
   "cell_type": "code",
   "execution_count": 20,
   "metadata": {},
   "outputs": [],
   "source": [
    "# A function that accepts one required argument (voltage) and three optional \n",
    "# arguments (state, action, and type). This function can be called in any of the\n",
    "# following ways:\n",
    "def parrot(voltage, state='a stiff', action='voom', type='Norwegian Blue'):\n",
    "    print(\"-- This parrot wouldn't\", action, end=' ')\n",
    "    print(\"if you put\", voltage, \"volts through it.\")\n",
    "    print(\"-- Lovely plumage, the\", type)\n",
    "    print(\"-- It's\", state, \"!\")"
   ]
  },
  {
   "cell_type": "code",
   "execution_count": 21,
   "metadata": {},
   "outputs": [
    {
     "name": "stdout",
     "output_type": "stream",
     "text": [
      "-- This parrot wouldn't voom if you put 1000 volts through it.\n",
      "-- Lovely plumage, the Norwegian Blue\n",
      "-- It's a stiff !\n",
      "\n",
      "\n",
      "-- This parrot wouldn't voom if you put 1000 volts through it.\n",
      "-- Lovely plumage, the Norwegian Blue\n",
      "-- It's a stiff !\n",
      "\n",
      "\n",
      "-- This parrot wouldn't VOOOOOM if you put 1000000 volts through it.\n",
      "-- Lovely plumage, the Norwegian Blue\n",
      "-- It's a stiff !\n",
      "\n",
      "\n",
      "-- This parrot wouldn't VOOOOOM if you put 1000000 volts through it.\n",
      "-- Lovely plumage, the Norwegian Blue\n",
      "-- It's a stiff !\n",
      "\n",
      "\n",
      "-- This parrot wouldn't jump if you put a million volts through it.\n",
      "-- Lovely plumage, the Norwegian Blue\n",
      "-- It's bereft of life !\n",
      "\n",
      "\n",
      "-- This parrot wouldn't voom if you put a thousand volts through it.\n",
      "-- Lovely plumage, the Norwegian Blue\n",
      "-- It's pushing up the daisies !\n"
     ]
    }
   ],
   "source": [
    "parrot(1000)                                         # 1 positional argument\n",
    "print('\\n')\n",
    "parrot(voltage=1000)                                 # 1 keyword argument\n",
    "print('\\n')\n",
    "parrot(voltage=1000000, action='VOOOOOM')            # 2 keyword arguments\n",
    "print('\\n')\n",
    "parrot(action='VOOOOOM', voltage=1000000)            # 2 keyword arguments\n",
    "print('\\n')\n",
    "parrot('a million', 'bereft of life', 'jump')        # 3 positional arguments\n",
    "print('\\n')\n",
    "parrot('a thousand', state='pushing up the daisies') # 1 positional, 1 keyword"
   ]
  },
  {
   "cell_type": "code",
   "execution_count": 28,
   "metadata": {},
   "outputs": [
    {
     "ename": "TypeError",
     "evalue": "parrot() got multiple values for argument 'voltage'",
     "output_type": "error",
     "traceback": [
      "\u001b[1;31m---------------------------------------------------------------------------\u001b[0m",
      "\u001b[1;31mTypeError\u001b[0m                                 Traceback (most recent call last)",
      "\u001b[1;32m<ipython-input-28-3b03ba6b2d3b>\u001b[0m in \u001b[0;36m<module>\u001b[1;34m\u001b[0m\n\u001b[0;32m      1\u001b[0m \u001b[1;31m# parrot() # required argument missing\u001b[0m\u001b[1;33m\u001b[0m\u001b[1;33m\u001b[0m\u001b[1;33m\u001b[0m\u001b[0m\n\u001b[0;32m      2\u001b[0m \u001b[1;31m# parrot(voltage = 5.0, 'dead') # non-keyword argument after a keyword argument\u001b[0m\u001b[1;33m\u001b[0m\u001b[1;33m\u001b[0m\u001b[1;33m\u001b[0m\u001b[0m\n\u001b[1;32m----> 3\u001b[1;33m \u001b[0mparrot\u001b[0m\u001b[1;33m(\u001b[0m\u001b[1;36m110\u001b[0m\u001b[1;33m,\u001b[0m \u001b[0mvoltage\u001b[0m\u001b[1;33m=\u001b[0m\u001b[1;36m220\u001b[0m\u001b[1;33m)\u001b[0m \u001b[1;31m# duplicate value for the same argument\u001b[0m\u001b[1;33m\u001b[0m\u001b[1;33m\u001b[0m\u001b[0m\n\u001b[0m\u001b[0;32m      4\u001b[0m \u001b[1;31m# parrot(actor='John Cleese') # unknown keyword argument\u001b[0m\u001b[1;33m\u001b[0m\u001b[1;33m\u001b[0m\u001b[1;33m\u001b[0m\u001b[0m\n",
      "\u001b[1;31mTypeError\u001b[0m: parrot() got multiple values for argument 'voltage'"
     ]
    }
   ],
   "source": [
    "parrot() # required argument missing\n",
    "parrot(voltage = 5.0, 'dead') # non-keyword argument after a keyword argument\n",
    "parrot(110, voltage=220) # duplicate value for the same argument\n",
    "parrot(actor='John Cleese') # unknown keyword argument"
   ]
  },
  {
   "cell_type": "markdown",
   "metadata": {},
   "source": [
    "**NB:** No argument may receive a value **more than once**: "
   ]
  },
  {
   "cell_type": "code",
   "execution_count": 31,
   "metadata": {},
   "outputs": [
    {
     "ename": "TypeError",
     "evalue": "function() got multiple values for argument 'a'",
     "output_type": "error",
     "traceback": [
      "\u001b[1;31m---------------------------------------------------------------------------\u001b[0m",
      "\u001b[1;31mTypeError\u001b[0m                                 Traceback (most recent call last)",
      "\u001b[1;32m<ipython-input-31-9c559d171ac1>\u001b[0m in \u001b[0;36m<module>\u001b[1;34m\u001b[0m\n\u001b[0;32m      3\u001b[0m \u001b[0mfunction\u001b[0m\u001b[1;33m(\u001b[0m\u001b[1;36m0\u001b[0m\u001b[1;33m)\u001b[0m\u001b[1;33m\u001b[0m\u001b[1;33m\u001b[0m\u001b[0m\n\u001b[0;32m      4\u001b[0m \u001b[0mfunction\u001b[0m\u001b[1;33m(\u001b[0m\u001b[0ma\u001b[0m\u001b[1;33m=\u001b[0m\u001b[1;36m0\u001b[0m\u001b[1;33m)\u001b[0m\u001b[1;33m\u001b[0m\u001b[1;33m\u001b[0m\u001b[0m\n\u001b[1;32m----> 5\u001b[1;33m \u001b[0mfunction\u001b[0m\u001b[1;33m(\u001b[0m\u001b[1;36m0\u001b[0m\u001b[1;33m,\u001b[0m\u001b[0ma\u001b[0m\u001b[1;33m=\u001b[0m\u001b[1;36m0\u001b[0m\u001b[1;33m)\u001b[0m\u001b[1;33m\u001b[0m\u001b[1;33m\u001b[0m\u001b[0m\n\u001b[0m",
      "\u001b[1;31mTypeError\u001b[0m: function() got multiple values for argument 'a'"
     ]
    }
   ],
   "source": [
    "def function(a):\n",
    "    pass\n",
    "function(0)\n",
    "function(a=0)\n",
    "function(0,a=0)"
   ]
  },
  {
   "cell_type": "markdown",
   "metadata": {},
   "source": [
    "To resolve this **functions** can also be called using **keyword arguments** of the form **kwarg=value**:\n",
    "- When a final formal parameter of the form ** name is present, it receives a dictionary containing all **keyword arguments** except for those corresponding to a formal parameter. \n",
    "- This may be combined with a formal parameter of the form * name (described in the next subsection) which receives a tuple containing the **positional arguments** beyond the formal parameter list. (* name must occur before **name).\n",
    "  **NB:** Note that the **order** in which the **keyword arguments** are printed is guaranteed to match the **order** in which they were **provided** in the **function call**. "
   ]
  },
  {
   "cell_type": "code",
   "execution_count": 32,
   "metadata": {},
   "outputs": [
    {
     "name": "stdout",
     "output_type": "stream",
     "text": [
      "-- Do you have any Limburger ?\n",
      "-- I'm sorry, we're all out of Limburger\n",
      "It's very runny, sir.\n",
      "It's really very, VERY runny, sir.\n",
      "----------------------------------------\n",
      "shopkeeper : Michael Palin\n",
      "client : John Cleese\n",
      "sketch : Cheese Shop Sketch\n"
     ]
    }
   ],
   "source": [
    "def cheeseshop(kind, *arguments, **keywords):\n",
    "    print(\"-- Do you have any\", kind, \"?\")\n",
    "    print(\"-- I'm sorry, we're all out of\", kind) \n",
    "    for arg in arguments:\n",
    "        print(arg)\n",
    "    print(\"-\" * 40)\n",
    "    for kw in keywords:\n",
    "        print(kw, \":\", keywords[kw])\n",
    "\n",
    "cheeseshop(\"Limburger\", \"It's very runny, sir.\", \"It's really very, VERY runny, sir.\",\n",
    "           shopkeeper=\"Michael Palin\", client=\"John Cleese\", sketch=\"Cheese Shop Sketch\")"
   ]
  },
  {
   "cell_type": "markdown",
   "metadata": {},
   "source": [
    "#### **2.7.3. Arbitrary Argument Lists:**\n",
    "- Finally, the **least frequently** used option is to specify that a function can be called with an **arbitrary number of arguments**. These arguments will be wrapped up in a **tuple**.\n",
    "- Normally, these **variadic arguments** will be **last** in the list of **formal parameters**, because they scoop up all remaining input arguments that are passed to the function.\n",
    "- Note that before the variable **number of arguments**, zero or more **normal arguments** may occur.\n",
    "- Note that any **formal parameters** which occur after the * args parameter are **‘keyword-only’ arguments**, meaning that they can only be used as **keywords** rather than **positional arguments**."
   ]
  },
  {
   "cell_type": "code",
   "execution_count": 35,
   "metadata": {},
   "outputs": [
    {
     "name": "stdout",
     "output_type": "stream",
     "text": [
      "earth/mars/venus\n",
      "earth.mars.venus\n"
     ]
    }
   ],
   "source": [
    "def concat(*args, sep=\"/\"):\n",
    "    return sep.join(args)\n",
    "print(concat(\"earth\", \"mars\", \"venus\"))\n",
    "print(concat(\"earth\", \"mars\", \"venus\",sep=\".\"))"
   ]
  },
  {
   "cell_type": "code",
   "execution_count": 43,
   "metadata": {},
   "outputs": [
    {
     "name": "stdout",
     "output_type": "stream",
     "text": [
      "earth/mars/venus\n",
      "earth.mars.venus\n"
     ]
    },
    {
     "ename": "TypeError",
     "evalue": "concat2() missing 1 required keyword-only argument: 'str2'",
     "output_type": "error",
     "traceback": [
      "\u001b[1;31m---------------------------------------------------------------------------\u001b[0m",
      "\u001b[1;31mTypeError\u001b[0m                                 Traceback (most recent call last)",
      "\u001b[1;32m<ipython-input-43-02b31c202944>\u001b[0m in \u001b[0;36m<module>\u001b[1;34m\u001b[0m\n\u001b[0;32m      6\u001b[0m \u001b[1;32mdef\u001b[0m \u001b[0mconcat2\u001b[0m\u001b[1;33m(\u001b[0m\u001b[0mstr1\u001b[0m\u001b[1;33m,\u001b[0m \u001b[1;33m*\u001b[0m\u001b[0margs\u001b[0m\u001b[1;33m,\u001b[0m \u001b[0mstr2\u001b[0m\u001b[1;33m,\u001b[0m \u001b[0msep\u001b[0m\u001b[1;33m=\u001b[0m\u001b[1;34m\"/\"\u001b[0m\u001b[1;33m)\u001b[0m\u001b[1;33m:\u001b[0m\u001b[1;33m\u001b[0m\u001b[1;33m\u001b[0m\u001b[0m\n\u001b[0;32m      7\u001b[0m     \u001b[1;32mreturn\u001b[0m \u001b[0msep\u001b[0m\u001b[1;33m.\u001b[0m\u001b[0mjoin\u001b[0m\u001b[1;33m(\u001b[0m\u001b[0margs\u001b[0m\u001b[1;33m)\u001b[0m\u001b[1;33m\u001b[0m\u001b[1;33m\u001b[0m\u001b[0m\n\u001b[1;32m----> 8\u001b[1;33m \u001b[0mprint\u001b[0m\u001b[1;33m(\u001b[0m\u001b[0mconcat2\u001b[0m\u001b[1;33m(\u001b[0m\u001b[1;34m\"Thierry\"\u001b[0m\u001b[1;33m,\u001b[0m\u001b[1;34m\"earth\"\u001b[0m\u001b[1;33m,\u001b[0m \u001b[1;34m\"mars\"\u001b[0m\u001b[1;33m,\u001b[0m \u001b[1;34m\"venus\"\u001b[0m\u001b[1;33m,\u001b[0m\u001b[1;34m\"Martina\"\u001b[0m\u001b[1;33m)\u001b[0m\u001b[1;33m)\u001b[0m\u001b[1;33m\u001b[0m\u001b[1;33m\u001b[0m\u001b[0m\n\u001b[0m\u001b[0;32m      9\u001b[0m \u001b[0mprint\u001b[0m\u001b[1;33m(\u001b[0m\u001b[0mconcat2\u001b[0m\u001b[1;33m(\u001b[0m\u001b[1;34m\"Thierry\"\u001b[0m\u001b[1;33m,\u001b[0m\u001b[1;34m\"earth\"\u001b[0m\u001b[1;33m,\u001b[0m \u001b[1;34m\"mars\"\u001b[0m\u001b[1;33m,\u001b[0m \u001b[1;34m\"venus\"\u001b[0m\u001b[1;33m,\u001b[0m\u001b[1;34m\"Martina\"\u001b[0m\u001b[1;33m,\u001b[0m\u001b[0msep\u001b[0m\u001b[1;33m=\u001b[0m\u001b[1;34m\".\"\u001b[0m\u001b[1;33m)\u001b[0m\u001b[1;33m)\u001b[0m\u001b[1;33m\u001b[0m\u001b[1;33m\u001b[0m\u001b[0m\n",
      "\u001b[1;31mTypeError\u001b[0m: concat2() missing 1 required keyword-only argument: 'str2'"
     ]
    }
   ],
   "source": [
    "def concat1(str1, *args, str2, sep=\"/\"):\n",
    "    return sep.join(args)\n",
    "print(concat1(\"Thierry\",\"earth\", \"mars\", \"venus\",str2=\"Martina\"))\n",
    "print(concat1(\"Thierry\",\"earth\", \"mars\", \"venus\",str2=\"Martina\",sep=\".\"))\n",
    "\n",
    "def concat2(str1, *args, str2, sep=\"/\"):\n",
    "    return sep.join(args)\n",
    "print(concat2(\"Thierry\",\"earth\", \"mars\", \"venus\",\"Martina\"))\n",
    "print(concat2(\"Thierry\",\"earth\", \"mars\", \"venus\",\"Martina\",sep=\".\"))"
   ]
  },
  {
   "cell_type": "markdown",
   "metadata": {},
   "source": [
    "#### **2.7.4. Unpacking Argument Lists:**"
   ]
  },
  {
   "cell_type": "markdown",
   "metadata": {},
   "source": [
    "When the **arguments** are already in a **list** or **tuple** but need to be **unpacked** for a **function call** requiring **separate positional arguments**:\n",
    "E.g. For instance, the built-in **range()** function expects separate **start** and **stop** arguments. If they are not available separately, write the function call with the * operator to **unpack the arguments** out of a **list** or **tuple**:"
   ]
  },
  {
   "cell_type": "code",
   "execution_count": 46,
   "metadata": {},
   "outputs": [
    {
     "name": "stdout",
     "output_type": "stream",
     "text": [
      "[3, 4, 5]\n",
      "[3, 4, 5]\n"
     ]
    },
    {
     "ename": "TypeError",
     "evalue": "'list' object cannot be interpreted as an integer",
     "output_type": "error",
     "traceback": [
      "\u001b[1;31m---------------------------------------------------------------------------\u001b[0m",
      "\u001b[1;31mTypeError\u001b[0m                                 Traceback (most recent call last)",
      "\u001b[1;32m<ipython-input-46-cb057cc40978>\u001b[0m in \u001b[0;36m<module>\u001b[1;34m\u001b[0m\n\u001b[0;32m      5\u001b[0m \u001b[1;33m\u001b[0m\u001b[0m\n\u001b[0;32m      6\u001b[0m \u001b[0marg\u001b[0m \u001b[1;33m=\u001b[0m \u001b[1;33m[\u001b[0m\u001b[1;36m3\u001b[0m\u001b[1;33m,\u001b[0m \u001b[1;36m6\u001b[0m\u001b[1;33m]\u001b[0m\u001b[1;33m\u001b[0m\u001b[1;33m\u001b[0m\u001b[0m\n\u001b[1;32m----> 7\u001b[1;33m \u001b[0mprint\u001b[0m\u001b[1;33m(\u001b[0m\u001b[0mlist\u001b[0m\u001b[1;33m(\u001b[0m\u001b[0mrange\u001b[0m\u001b[1;33m(\u001b[0m\u001b[0marg\u001b[0m\u001b[1;33m)\u001b[0m\u001b[1;33m)\u001b[0m\u001b[1;33m)\u001b[0m     \u001b[1;31m# call with arguments unpacked from a list\u001b[0m\u001b[1;33m\u001b[0m\u001b[1;33m\u001b[0m\u001b[0m\n\u001b[0m",
      "\u001b[1;31mTypeError\u001b[0m: 'list' object cannot be interpreted as an integer"
     ]
    }
   ],
   "source": [
    "print(list(range(3, 6)))      # normal call with separate arguments\n",
    "\n",
    "args = [3,6]\n",
    "print(list(range(*args)))     # normal call with separate arguments\n",
    "\n",
    "arg = [3, 6]\n",
    "print(list(range(arg)))       # call with arguments unpacked from a list"
   ]
  },
  {
   "cell_type": "markdown",
   "metadata": {},
   "source": [
    "**NB:** In the same fashion, **dictionaries** can deliver **keyword arguments** with the ** operator:"
   ]
  },
  {
   "cell_type": "code",
   "execution_count": 47,
   "metadata": {},
   "outputs": [
    {
     "name": "stdout",
     "output_type": "stream",
     "text": [
      "-- This parrot wouldn't VOOM if you put four million volts through it. E's bleedin' demised !\n"
     ]
    }
   ],
   "source": [
    "def parrot(voltage, state='a stiff', action='voom'):\n",
    "    print(\"-- This parrot wouldn't\", action, end=' ')\n",
    "    print(\"if you put\", voltage, \"volts through it.\", end=' ')\n",
    "    print(\"E's\", state, \"!\")\n",
    "    \n",
    "d = {\"voltage\": \"four million\", \"state\": \"bleedin' demised\", \"action\": \"VOOM\"}\n",
    "parrot(**d)"
   ]
  },
  {
   "cell_type": "markdown",
   "metadata": {},
   "source": [
    "#### **2.7.5. Lambda Expressions:**\n",
    "- **Small anonymous** functions can be created with the **lambda keyword**.\n",
    "- **Lambda functions** can be used wherever **function objects** are required.\n",
    "- They are **syntactically restricted** to a **single expression**.\n",
    "\n",
    "**NB:** Like **nested function** definitions, **lambda functions** can reference variables from the **containing scope**.\n",
    "\n",
    "**a)** The **lambda expression** can be used to **return a function**:"
   ]
  },
  {
   "cell_type": "code",
   "execution_count": null,
   "metadata": {},
   "outputs": [],
   "source": [
    "def make_incrementor(n):\n",
    "    return lambda x: x + n\n",
    "f = make_incrementor(10)\n",
    "print(f(1))\n",
    "\n",
    "def sum_ab(a,b):\n",
    "    return lambda a,b:a+b\n",
    "Sm = sum_ab(1,2)\n",
    "print(Sm(4,6))"
   ]
  },
  {
   "cell_type": "markdown",
   "metadata": {},
   "source": [
    "**b)** The **lambda expression** can be used **to pass a small function** as an **argument**:"
   ]
  },
  {
   "cell_type": "code",
   "execution_count": 82,
   "metadata": {},
   "outputs": [
    {
     "name": "stdout",
     "output_type": "stream",
     "text": [
      "['Thierry', 'asleep', 'far', 'is']\n",
      "['Thierry', 'asleep', 'far', 'is'] \n",
      "\n",
      "3\n",
      "three \n",
      "\n",
      "[(1, 'one'), (2, 'two'), (3, 'three'), (4, 'four')]\n",
      "[(4, 'four'), (1, 'one'), (3, 'three'), (2, 'two')]\n"
     ]
    }
   ],
   "source": [
    "# NB: First let's understand sort or sorted function:\n",
    "List = ['Thierry','is','far','asleep']\n",
    "List.sort(key=len, reverse=True)        # Key is the function used defining the sorting criterion\n",
    "print(List)\n",
    "\n",
    "List = ['Thierry','is','far','asleep']\n",
    "Lst = sorted(List,key=len, reverse=True) # Key is the function used defining the sorting criterion\n",
    "print(Lst,'\\n')\n",
    "\n",
    "pairs = [(1, 'one'), (2, 'two'), (3, 'three'), (4, 'four')]\n",
    "f0=lambda pair:pair[0]  # Sorting according to the first element in the pair\n",
    "f1=lambda pair:pair[1]  # Sorting according to the second element in the pair\n",
    "\n",
    "print(f0(pairs[2]))\n",
    "print(f1(pairs[2]),'\\n')\n",
    "\n",
    "pairs.sort(key=f0)\n",
    "print(pairs)\n",
    "pairs.sort(key=f1)\n",
    "print(pairs)"
   ]
  },
  {
   "cell_type": "markdown",
   "metadata": {},
   "source": [
    "#### **2.7.6. Documentation Strings:**"
   ]
  },
  {
   "cell_type": "markdown",
   "metadata": {},
   "source": [
    "Some **conventions** about the **content** and **formatting** of **documentation strings:**\n",
    "- The **first line** should always be a **short, concise summary of the object’s purpose**. This line should begin with a **capital letter** and end with a **period**.\n",
    "- If there are more lines in the documentation string, the **second line** should be **blank**, visually **separating** the **summary** from the rest of the **description**. \n",
    "- The following lines should be one or more **paragraphs** describing the **object’s calling conventions**, its **side effects**, etc."
   ]
  },
  {
   "cell_type": "code",
   "execution_count": 85,
   "metadata": {},
   "outputs": [
    {
     "name": "stdout",
     "output_type": "stream",
     "text": [
      "Do nothing, but document it.\n",
      "    \n",
      "    No, really, it doesn't do anything.\n",
      "    Etc.\n",
      "    \n",
      "    By Thierry - 01-07-2020\n",
      "    \n"
     ]
    }
   ],
   "source": [
    "def my_function():\n",
    "    \"\"\"Do nothing, but document it.\n",
    "    \n",
    "    No, really, it doesn't do anything.\n",
    "    Etc.\n",
    "    \n",
    "    By Thierry - 01-07-2020\n",
    "    \"\"\"\n",
    "    pass\n",
    "\n",
    "print(my_function.__doc__)  # Print function's documentation"
   ]
  },
  {
   "cell_type": "markdown",
   "metadata": {},
   "source": [
    "#### **2.7.7. Function Annotations:**\n",
    "- **Function annotations** are completely **optional metadata information** about the **types** used by user-defined functions.\n",
    "- **Annotations** are stored in the **__annotations__** attribute of the function as a **dictionary** and have no effect on any other part of the function. \n",
    "- **Parameter annotations** are defined by a **colon after the parameter name**, followed by an expression evaluating to the **value of the annotation**. \n",
    "- **Return annotations** are defined by a literal **->**, followed by an **expression**, between the **parameter list** and the **colon** denoting the end of the **def statement**. \n",
    "- Even if the **annotations**  has not been specified at **function definition**, it will be specified by default according to the types used at **function call**. \n",
    "\n",
    "**NB:** The following example has a **positional argument (ham)**, a **keyword argument (egg)**, and the return **value annotated**:"
   ]
  },
  {
   "cell_type": "code",
   "execution_count": 89,
   "metadata": {},
   "outputs": [
    {
     "name": "stdout",
     "output_type": "stream",
     "text": [
      "Annotations: {'ham': <class 'str'>, 'eggs': <class 'str'>, 'return': <class 'str'>}\n",
      "Arguments: spam eggs\n",
      "spam and eggs \n",
      "\n",
      "Annotations: {'ham': <class 'str'>, 'eggs': <class 'str'>, 'return': <class 'str'>}\n",
      "Arguments: spam eggs\n",
      "spam and eggs\n"
     ]
    }
   ],
   "source": [
    "def f1(ham: str, eggs: str = 'eggs') -> str:\n",
    "    print(\"Annotations:\", f.__annotations__)\n",
    "    print(\"Arguments:\", ham, eggs)\n",
    "    return ham + ' and ' + eggs\n",
    "\n",
    "print(f1('spam'),'\\n')\n",
    "\n",
    "def f2(ham, eggs= 'eggs'):\n",
    "    print(\"Annotations:\", f.__annotations__)\n",
    "    print(\"Arguments:\", ham, eggs)\n",
    "    return ham + ' and ' + eggs\n",
    "\n",
    "print(f2('spam'))"
   ]
  },
  {
   "cell_type": "markdown",
   "metadata": {},
   "source": [
    "### **2.8. Intermezzo: Coding Style:**\n",
    "- **Most languages** can be written (or more concise, formatted) in different **styles**; some are **more readable** than others --> Making it easy for others to read your code is always a good idea, and **adopting a nice coding style** helps tremendously for that.\n",
    "- For **Python, PEP 8** has emerged as the **style guide** that most projects adhere to; it promotes a very **readable** and **eye-pleasing** coding style.\n",
    "- The **most important points** of the **PEP 8 style** includes:"
   ]
  },
  {
   "attachments": {
    "image.png": {
     "image/png": "[encoded data removed]"
    }
   },
   "cell_type": "markdown",
   "metadata": {},
   "source": [
    "![image.png](attachment:image.png)"
   ]
  },
  {
   "cell_type": "markdown",
   "metadata": {},
   "source": [
    "## **3. Data Structures:** "
   ]
  },
  {
   "cell_type": "markdown",
   "metadata": {},
   "source": [
    "### **3.1. More on Lists:**\n",
    "#### **3.1.1. More list methods:**"
   ]
  },
  {
   "attachments": {
    "image.png": {
     "image/png": "[encoded data removed]"
    }
   },
   "cell_type": "markdown",
   "metadata": {},
   "source": [
    "![image.png](attachment:image.png)"
   ]
  },
  {
   "attachments": {
    "image.png": {
     "image/png": "[encoded data removed]"
    }
   },
   "cell_type": "markdown",
   "metadata": {},
   "source": [
    "![image.png](attachment:image.png)"
   ]
  },
  {
   "cell_type": "code",
   "execution_count": 91,
   "metadata": {},
   "outputs": [
    {
     "name": "stdout",
     "output_type": "stream",
     "text": [
      "['banana', 'apple', 'kiwi', 'banana', 'pear', 'apple', 'orange']\n",
      "['banana', 'apple', 'kiwi', 'banana', 'pear', 'apple', 'orange', 'grape']\n"
     ]
    }
   ],
   "source": [
    "# .append() example:\n",
    "fruits = ['banana', 'apple', 'kiwi', 'banana', 'pear', 'apple', 'orange']\n",
    "print(fruits)\n",
    "fruits.append('grape')\n",
    "print(fruits)"
   ]
  },
  {
   "cell_type": "code",
   "execution_count": 95,
   "metadata": {},
   "outputs": [
    {
     "name": "stdout",
     "output_type": "stream",
     "text": [
      "['physics', 'chemistry', 'maths', ['banana', 'apple', 'kiwi', 'banana', 'pear', 'apple', 'orange']] \n",
      "\n",
      "['physics', 'chemistry', 'maths', 'banana', 'apple', 'kiwi', 'banana', 'pear', 'apple', 'orange']\n"
     ]
    }
   ],
   "source": [
    "# .extend() example:\n",
    "fruits = ['banana', 'apple', 'kiwi', 'banana', 'pear', 'apple', 'orange']\n",
    "subjects = ['physics', 'chemistry', 'maths']\n",
    "subjects.append(fruits)\n",
    "print(subjects,'\\n')\n",
    "\n",
    "fruits = ['banana', 'apple', 'kiwi', 'banana', 'pear', 'apple', 'orange']\n",
    "subjects = ['physics', 'chemistry', 'maths']\n",
    "subjects.extend(fruits)\n",
    "print(subjects)"
   ]
  },
  {
   "cell_type": "code",
   "execution_count": 99,
   "metadata": {},
   "outputs": [
    {
     "name": "stdout",
     "output_type": "stream",
     "text": [
      "['Martina', 'Angelo', 'Anthony', 'Aurelia']\n",
      "['Thierry', 'Martina', 'Angelo', 'Anthony', 'Aurelia']\n",
      "['Jesus', 'Thierry', 'Martina', 'Angelo', 'Anthony', 'Aurelia', 'Jesus'] \n",
      "\n",
      "[1, 2, 3, 5, 6, 7, 8, 9, 23, 45, 76]\n",
      "[1, 2, 3, 5, 6, 7, 9, 23, 45, 76]\n"
     ]
    }
   ],
   "source": [
    "# list.insert() and list.remove() exemples:\n",
    "List = ['Martina', 'Angelo', 'Anthony', 'Aurelia']\n",
    "print(List)\n",
    "List.insert(0,'Thierry')\n",
    "print(List)\n",
    "List.insert(0,'Jesus')\n",
    "List.insert(len(List),'Jesus')\n",
    "print(List,'\\n')\n",
    "\n",
    "List = [1,2,3,5,6,7,8,9,23,45,76]\n",
    "print(List)\n",
    "List.remove(8)\n",
    "print(List)"
   ]
  },
  {
   "cell_type": "code",
   "execution_count": 105,
   "metadata": {},
   "outputs": [
    {
     "name": "stdout",
     "output_type": "stream",
     "text": [
      "['apple', 'apple', 'banana', 'banana', 'grape', 'kiwi', 'orange', 'pear']\n",
      "pear\n",
      "orange\n",
      "kiwi\n",
      "['apple', 'apple', 'banana', 'banana', 'grape']\n",
      "apple\n",
      "['apple', 'banana', 'banana', 'grape']\n"
     ]
    }
   ],
   "source": [
    "# list.pop() examples:\n",
    "fruits = ['apple', 'apple', 'banana', 'banana', 'grape', 'kiwi', 'orange', 'pear']\n",
    "print(fruits)\n",
    "print(fruits.pop())\n",
    "print(fruits.pop())\n",
    "print(fruits.pop())\n",
    "print(fruits)\n",
    "print(fruits.pop(1))\n",
    "print(fruits)"
   ]
  },
  {
   "cell_type": "code",
   "execution_count": 112,
   "metadata": {},
   "outputs": [
    {
     "name": "stdout",
     "output_type": "stream",
     "text": [
      "['banana', 'apple', 'kiwi', 'banana', 'pear', 'apple', 'orange', 'grape']\n",
      "[] \n",
      "\n",
      "['banana', 'apple', 'kiwi', 'banana', 'pear', 'apple', 'orange', 'grape']\n",
      "[] \n",
      "\n"
     ]
    }
   ],
   "source": [
    "# list.clear() expamples:\n",
    "fruits = ['banana', 'apple', 'kiwi', 'banana', 'pear', 'apple', 'orange', 'grape']\n",
    "print(fruits)\n",
    "fruits.clear()\n",
    "print(fruits,'\\n')\n",
    "\n",
    "fruits = ['banana', 'apple', 'kiwi', 'banana', 'pear', 'apple', 'orange', 'grape']\n",
    "print(fruits)\n",
    "del fruits[:]\n",
    "print(fruits,'\\n')"
   ]
  },
  {
   "cell_type": "code",
   "execution_count": 122,
   "metadata": {},
   "outputs": [
    {
     "name": "stdout",
     "output_type": "stream",
     "text": [
      "['orange', 'apple', 'pear', 'banana', 'kiwi', 'apple', 'banana']\n",
      "3\n",
      "6 \n",
      "\n",
      "2\n",
      "0\n",
      "2 \n",
      "\n",
      "['banana', 'apple', 'kiwi', 'banana', 'pear', 'apple', 'orange'] \n",
      "\n",
      "['banana', 'apple', 'kiwi', 'banana', 'pear', 'apple', 'orange']\n",
      "['banana', 'apple', 'kiwi', 'banana', 'pear', 'apple', 'orange']\n"
     ]
    }
   ],
   "source": [
    "# list.index(), list.count(), list.reverse() and list.copy():\n",
    "fruits = ['orange', 'apple', 'pear', 'banana', 'kiwi', 'apple', 'banana']\n",
    "print(fruits)\n",
    "print(fruits.index('banana'))\n",
    "print(fruits.index('banana', 4),'\\n') # Find next banana starting a position 4\n",
    "\n",
    "print(fruits.count('apple'))\n",
    "print(fruits.count('tangerine'))\n",
    "print(fruits.count('banana'),'\\n')\n",
    "\n",
    "fruits.reverse()\n",
    "print(fruits,'\\n')\n",
    "\n",
    "fruits1 = fruits.copy()\n",
    "print(fruits)\n",
    "print(fruits1)"
   ]
  },
  {
   "cell_type": "code",
   "execution_count": 123,
   "metadata": {},
   "outputs": [
    {
     "name": "stdout",
     "output_type": "stream",
     "text": [
      "['apple', 'apple', 'banana', 'banana', 'kiwi', 'orange', 'pear']\n"
     ]
    }
   ],
   "source": [
    "# list.sort():\n",
    "['banana', 'apple', 'kiwi', 'banana', 'pear', 'apple', 'orange', 'grape']\n",
    "fruits.sort()\n",
    "print(fruits)"
   ]
  },
  {
   "cell_type": "markdown",
   "metadata": {},
   "source": [
    "#### **3.1.2. Using Lists as Stacks:**\n",
    "\n",
    "<div style=\"text-align: justify\">\n",
    "    \n",
    "- A **stack** is a basic **data structure** that can be logically thought of as a **linear structure** represented by a real physical stack or pile, a **structure** where **insertion** and **deletion** of items takes place at one end called **top of the stack**. \n",
    "\n",
    "</div>"
   ]
  },
  {
   "attachments": {
    "image.png": {
     "image/png": "[encoded data removed]"
    }
   },
   "cell_type": "markdown",
   "metadata": {},
   "source": [
    "![image.png](attachment:image.png)"
   ]
  },
  {
   "cell_type": "markdown",
   "metadata": {},
   "source": [
    "- The **list** methods make it very easy to use a **list as a stack**, where the **last element added** is the **first element retrieved** (“last-in, first-out”): \n",
    "  - To **add an item** to the top of the stack, use **append()**. \n",
    "  - To **retrieve an item** from the top of the stack, use **pop()** (without an explicit index)."
   ]
  },
  {
   "cell_type": "code",
   "execution_count": 125,
   "metadata": {},
   "outputs": [
    {
     "name": "stdout",
     "output_type": "stream",
     "text": [
      "[3, 4, 5] \n",
      "\n",
      "[3, 4, 5, 6]\n",
      "[3, 4, 5, 6, 7] \n",
      "\n",
      "7\n",
      "[3, 4, 5, 6] \n",
      "\n",
      "6\n",
      "[3, 4, 5] \n",
      "\n",
      "5\n",
      "[3, 4]\n"
     ]
    }
   ],
   "source": [
    "stack = [3, 4, 5]\n",
    "print(stack,'\\n')\n",
    "\n",
    "stack.append(6)\n",
    "print(stack)\n",
    "stack.append(7)\n",
    "print(stack,'\\n')\n",
    "\n",
    "print(stack.pop())\n",
    "print(stack,'\\n')\n",
    "\n",
    "print(stack.pop())\n",
    "print(stack,'\\n')\n",
    "\n",
    "print(stack.pop())\n",
    "print(stack)"
   ]
  },
  {
   "cell_type": "markdown",
   "metadata": {},
   "source": [
    "#### **3.1.3. Using Lists as Queues:**\n",
    "- A **Queue** is an abstract **data structure**, somewhat similar to **Stacks**. \n",
    "- Unlike **stacks**, a **queue** is **open at both its ends**: \n",
    "  - One end is always used to **insert data (enqueue**) and \n",
    "  - The other is used to **remove data (dequeue)**. \n",
    "- **Queues** follow **First-In-First-Out** methodology, i.e., the data item stored first will be accessed first."
   ]
  },
  {
   "attachments": {
    "image.png": {
     "image/png": "[encoded data removed]"
    }
   },
   "cell_type": "markdown",
   "metadata": {},
   "source": [
    "![image.png](attachment:image.png)"
   ]
  },
  {
   "cell_type": "code",
   "execution_count": null,
   "metadata": {},
   "outputs": [],
   "source": []
  },
  {
   "cell_type": "code",
   "execution_count": null,
   "metadata": {},
   "outputs": [],
   "source": []
  },
  {
   "cell_type": "code",
   "execution_count": null,
   "metadata": {},
   "outputs": [],
   "source": []
  },
  {
   "cell_type": "markdown",
   "metadata": {},
   "source": [
    "3.2. The del statement"
   ]
  },
  {
   "cell_type": "markdown",
   "metadata": {},
   "source": [
    "3.3. Tuples and Sequences"
   ]
  },
  {
   "cell_type": "markdown",
   "metadata": {},
   "source": [
    "3.4. Sets"
   ]
  },
  {
   "cell_type": "markdown",
   "metadata": {},
   "source": [
    "3.5. Dictionaries"
   ]
  },
  {
   "cell_type": "markdown",
   "metadata": {},
   "source": [
    "3.6. Looping Techniques"
   ]
  },
  {
   "cell_type": "markdown",
   "metadata": {},
   "source": [
    "3.7. More on Conditions"
   ]
  },
  {
   "cell_type": "markdown",
   "metadata": {},
   "source": [
    "3.8. Comparing Sequences and Other Types"
   ]
  },
  {
   "cell_type": "markdown",
   "metadata": {},
   "source": [
    "## **4. Modules:** "
   ]
  },
  {
   "cell_type": "markdown",
   "metadata": {},
   "source": [
    "4.1. More on Modules"
   ]
  },
  {
   "cell_type": "markdown",
   "metadata": {},
   "source": [
    "4.2. Standard Modules"
   ]
  },
  {
   "cell_type": "markdown",
   "metadata": {},
   "source": [
    "4.3. The dir() Function"
   ]
  },
  {
   "cell_type": "markdown",
   "metadata": {},
   "source": [
    "4.4. Packages"
   ]
  },
  {
   "cell_type": "markdown",
   "metadata": {},
   "source": [
    "## **5. Input and output:** "
   ]
  },
  {
   "cell_type": "markdown",
   "metadata": {},
   "source": [
    "5.1. Fancier Output Formatting"
   ]
  },
  {
   "cell_type": "markdown",
   "metadata": {},
   "source": [
    "5.2. Reading and Writing Files"
   ]
  },
  {
   "cell_type": "markdown",
   "metadata": {},
   "source": [
    "## **6. Errors and exceptions:**"
   ]
  },
  {
   "cell_type": "markdown",
   "metadata": {},
   "source": [
    "6.1. Syntax Errors"
   ]
  },
  {
   "cell_type": "markdown",
   "metadata": {},
   "source": [
    "6.2. Exceptions"
   ]
  },
  {
   "cell_type": "markdown",
   "metadata": {},
   "source": [
    "6.3. Handling Exceptions"
   ]
  },
  {
   "cell_type": "markdown",
   "metadata": {},
   "source": [
    "6.4. Raising Exceptions"
   ]
  },
  {
   "cell_type": "markdown",
   "metadata": {},
   "source": [
    "6.5. User-defined Exceptions"
   ]
  },
  {
   "cell_type": "markdown",
   "metadata": {},
   "source": [
    "6.6. Defining Clean-up Actions"
   ]
  },
  {
   "cell_type": "markdown",
   "metadata": {},
   "source": [
    "6.7. Predefined Clean-up Actions"
   ]
  },
  {
   "cell_type": "markdown",
   "metadata": {},
   "source": [
    "## **7. Classes:**"
   ]
  },
  {
   "cell_type": "markdown",
   "metadata": {},
   "source": [
    "7.1. A Word About Names and Objects"
   ]
  },
  {
   "cell_type": "markdown",
   "metadata": {},
   "source": [
    "7.2. Python Scopes and Namespaces"
   ]
  },
  {
   "cell_type": "markdown",
   "metadata": {},
   "source": [
    "7.3. A First Look at Classes"
   ]
  },
  {
   "cell_type": "markdown",
   "metadata": {},
   "source": [
    "7.4. Random Remarks"
   ]
  },
  {
   "cell_type": "markdown",
   "metadata": {},
   "source": [
    "7.5. Inheritance"
   ]
  },
  {
   "cell_type": "markdown",
   "metadata": {},
   "source": [
    "7.6. Private Variables"
   ]
  },
  {
   "cell_type": "markdown",
   "metadata": {},
   "source": [
    "7.7. Odds and Ends"
   ]
  },
  {
   "cell_type": "markdown",
   "metadata": {},
   "source": [
    "7.8. Iterators"
   ]
  },
  {
   "cell_type": "markdown",
   "metadata": {},
   "source": [
    "7.9. Generators"
   ]
  },
  {
   "cell_type": "markdown",
   "metadata": {},
   "source": [
    "7.10. Generator Expressions"
   ]
  },
  {
   "cell_type": "markdown",
   "metadata": {},
   "source": [
    "## **8. Brief tour of standard library - Part 1:**"
   ]
  },
  {
   "cell_type": "markdown",
   "metadata": {},
   "source": [
    "8.1 Operating System Interface - os and shutil"
   ]
  },
  {
   "cell_type": "markdown",
   "metadata": {},
   "source": [
    "8.2 File Wildcards - glob"
   ]
  },
  {
   "cell_type": "markdown",
   "metadata": {},
   "source": [
    "8.3 Command Line Arguments - sys"
   ]
  },
  {
   "cell_type": "markdown",
   "metadata": {},
   "source": [
    "8.4 Error Output Redirection and Program Termination - sys"
   ]
  },
  {
   "cell_type": "markdown",
   "metadata": {},
   "source": [
    "8.5 String Pattern Matching - re"
   ]
  },
  {
   "cell_type": "markdown",
   "metadata": {},
   "source": [
    "8.6 Mathematics - math, random, statistics"
   ]
  },
  {
   "cell_type": "markdown",
   "metadata": {},
   "source": [
    "8.7 Internet Access - urllib.request, smtplib"
   ]
  },
  {
   "cell_type": "markdown",
   "metadata": {},
   "source": [
    "8.8 Dates and Times - datetime"
   ]
  },
  {
   "cell_type": "markdown",
   "metadata": {},
   "source": [
    "8.9 Data Compression - zlib, gzip, bz2, lzma, zipfile and tarfile"
   ]
  },
  {
   "cell_type": "markdown",
   "metadata": {},
   "source": [
    "8.10 Performance Measurement"
   ]
  },
  {
   "cell_type": "markdown",
   "metadata": {},
   "source": [
    "8.11 Quality Control"
   ]
  },
  {
   "cell_type": "markdown",
   "metadata": {},
   "source": [
    "## **9. Brief tour of standard library - Part 2:**"
   ]
  },
  {
   "cell_type": "markdown",
   "metadata": {},
   "source": [
    "11.1 Output Formatting"
   ]
  },
  {
   "cell_type": "markdown",
   "metadata": {},
   "source": [
    "11.2 Templating"
   ]
  },
  {
   "cell_type": "markdown",
   "metadata": {},
   "source": [
    "11.3 Working with Binary Data Record Layouts"
   ]
  },
  {
   "cell_type": "markdown",
   "metadata": {},
   "source": [
    "11.4 Multi-threading"
   ]
  },
  {
   "cell_type": "markdown",
   "metadata": {},
   "source": [
    "11.5 Logging"
   ]
  },
  {
   "cell_type": "markdown",
   "metadata": {},
   "source": [
    "11.6 Weak References"
   ]
  },
  {
   "cell_type": "markdown",
   "metadata": {},
   "source": [
    "11.7 Tools for Working with Lists"
   ]
  },
  {
   "cell_type": "markdown",
   "metadata": {},
   "source": [
    "11.8 Decimal Floating Point Arithmetic"
   ]
  }
 ],
 "metadata": {
  "kernelspec": {
   "display_name": "Python 3",
   "language": "python",
   "name": "python3"
  },
  "language_info": {
   "codemirror_mode": {
    "name": "ipython",
    "version": 3
   },
   "file_extension": ".py",
   "mimetype": "text/x-python",
   "name": "python",
   "nbconvert_exporter": "python",
   "pygments_lexer": "ipython3",
   "version": "3.7.6"
  }
 },
 "nbformat": 4,
 "nbformat_minor": 4
}
