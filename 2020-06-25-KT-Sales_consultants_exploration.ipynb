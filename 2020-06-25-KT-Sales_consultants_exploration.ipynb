{
 "cells": [
  {
   "cell_type": "markdown",
   "metadata": {},
   "source": [
    "## **Sales per sale consultants - Performance:**"
   ]
  },
  {
   "cell_type": "markdown",
   "metadata": {},
   "source": [
    "### **Dependencies:**"
   ]
  },
  {
   "cell_type": "code",
   "execution_count": 2,
   "metadata": {},
   "outputs": [],
   "source": [
    "import copy \n",
    "import numpy as np\n",
    "import pandas as pd\n",
    "from matplotlib import pyplot as plt"
   ]
  },
  {
   "cell_type": "markdown",
   "metadata": {},
   "source": [
    "### **Get data and display first few and last few records:**"
   ]
  },
  {
   "cell_type": "code",
   "execution_count": 3,
   "metadata": {
    "jupyter": {
     "source_hidden": true
    }
   },
   "outputs": [
    {
     "data": {
      "text/html": [
       "<div>\n",
       "<style scoped>\n",
       "    .dataframe tbody tr th:only-of-type {\n",
       "        vertical-align: middle;\n",
       "    }\n",
       "\n",
       "    .dataframe tbody tr th {\n",
       "        vertical-align: top;\n",
       "    }\n",
       "\n",
       "    .dataframe thead th {\n",
       "        text-align: right;\n",
       "    }\n",
       "</style>\n",
       "<table border=\"1\" class=\"dataframe\">\n",
       "  <thead>\n",
       "    <tr style=\"text-align: right;\">\n",
       "      <th></th>\n",
       "      <th>iPersonID</th>\n",
       "      <th>dtPeriod</th>\n",
       "      <th>iDistID</th>\n",
       "      <th>iManID</th>\n",
       "      <th>fSales</th>\n",
       "      <th>fCredit</th>\n",
       "      <th>fCreditPuer</th>\n",
       "      <th>fSalesPuer</th>\n",
       "    </tr>\n",
       "  </thead>\n",
       "  <tbody>\n",
       "    <tr>\n",
       "      <th>0</th>\n",
       "      <td>40005</td>\n",
       "      <td>2017-01-01</td>\n",
       "      <td>40005</td>\n",
       "      <td>40005</td>\n",
       "      <td>0.0</td>\n",
       "      <td>0.0</td>\n",
       "      <td>NaN</td>\n",
       "      <td>1514.0</td>\n",
       "    </tr>\n",
       "    <tr>\n",
       "      <th>1</th>\n",
       "      <td>40008</td>\n",
       "      <td>2017-01-01</td>\n",
       "      <td>40008</td>\n",
       "      <td>40008</td>\n",
       "      <td>1879.0</td>\n",
       "      <td>0.0</td>\n",
       "      <td>NaN</td>\n",
       "      <td>NaN</td>\n",
       "    </tr>\n",
       "    <tr>\n",
       "      <th>2</th>\n",
       "      <td>40011</td>\n",
       "      <td>2017-01-01</td>\n",
       "      <td>40011</td>\n",
       "      <td>40011</td>\n",
       "      <td>4377.0</td>\n",
       "      <td>0.0</td>\n",
       "      <td>NaN</td>\n",
       "      <td>420.0</td>\n",
       "    </tr>\n",
       "    <tr>\n",
       "      <th>3</th>\n",
       "      <td>45898</td>\n",
       "      <td>2017-01-01</td>\n",
       "      <td>40005</td>\n",
       "      <td>40200</td>\n",
       "      <td>0.0</td>\n",
       "      <td>0.0</td>\n",
       "      <td>NaN</td>\n",
       "      <td>362.0</td>\n",
       "    </tr>\n",
       "    <tr>\n",
       "      <th>4</th>\n",
       "      <td>45921</td>\n",
       "      <td>2017-01-01</td>\n",
       "      <td>40005</td>\n",
       "      <td>40200</td>\n",
       "      <td>0.0</td>\n",
       "      <td>0.0</td>\n",
       "      <td>NaN</td>\n",
       "      <td>427.0</td>\n",
       "    </tr>\n",
       "  </tbody>\n",
       "</table>\n",
       "</div>"
      ],
      "text/plain": [
       "   iPersonID   dtPeriod  iDistID  iManID  fSales  fCredit  fCreditPuer  \\\n",
       "0      40005 2017-01-01    40005   40005     0.0      0.0          NaN   \n",
       "1      40008 2017-01-01    40008   40008  1879.0      0.0          NaN   \n",
       "2      40011 2017-01-01    40011   40011  4377.0      0.0          NaN   \n",
       "3      45898 2017-01-01    40005   40200     0.0      0.0          NaN   \n",
       "4      45921 2017-01-01    40005   40200     0.0      0.0          NaN   \n",
       "\n",
       "   fSalesPuer  \n",
       "0      1514.0  \n",
       "1         NaN  \n",
       "2       420.0  \n",
       "3       362.0  \n",
       "4       427.0  "
      ]
     },
     "execution_count": 3,
     "metadata": {},
     "output_type": "execute_result"
    }
   ],
   "source": [
    "df = pd.read_excel('Sales Force Data.xlsx')\n",
    "df['fCreditPuer'] = df['fCreditPure'] \n",
    "df['fSalesPuer'] = df['fSalesPure'] \n",
    "df.drop(columns = ['fCreditPure','fSalesPure'],axis=1,inplace=True)\n",
    "df.head()"
   ]
  },
  {
   "cell_type": "code",
   "execution_count": 4,
   "metadata": {
    "jupyter": {
     "source_hidden": true
    }
   },
   "outputs": [
    {
     "data": {
      "text/html": [
       "<div>\n",
       "<style scoped>\n",
       "    .dataframe tbody tr th:only-of-type {\n",
       "        vertical-align: middle;\n",
       "    }\n",
       "\n",
       "    .dataframe tbody tr th {\n",
       "        vertical-align: top;\n",
       "    }\n",
       "\n",
       "    .dataframe thead th {\n",
       "        text-align: right;\n",
       "    }\n",
       "</style>\n",
       "<table border=\"1\" class=\"dataframe\">\n",
       "  <thead>\n",
       "    <tr style=\"text-align: right;\">\n",
       "      <th></th>\n",
       "      <th>iPersonID</th>\n",
       "      <th>dtPeriod</th>\n",
       "      <th>iDistID</th>\n",
       "      <th>iManID</th>\n",
       "      <th>fSales</th>\n",
       "      <th>fCredit</th>\n",
       "      <th>fCreditPuer</th>\n",
       "      <th>fSalesPuer</th>\n",
       "    </tr>\n",
       "  </thead>\n",
       "  <tbody>\n",
       "    <tr>\n",
       "      <th>721273</th>\n",
       "      <td>83347</td>\n",
       "      <td>2020-01-03</td>\n",
       "      <td>83347</td>\n",
       "      <td>83347</td>\n",
       "      <td>971314.0</td>\n",
       "      <td>378560.0</td>\n",
       "      <td>191630.0</td>\n",
       "      <td>319985.0</td>\n",
       "    </tr>\n",
       "    <tr>\n",
       "      <th>721274</th>\n",
       "      <td>83348</td>\n",
       "      <td>2020-01-03</td>\n",
       "      <td>83348</td>\n",
       "      <td>83348</td>\n",
       "      <td>84560.0</td>\n",
       "      <td>83650.0</td>\n",
       "      <td>87770.0</td>\n",
       "      <td>95245.0</td>\n",
       "    </tr>\n",
       "    <tr>\n",
       "      <th>721275</th>\n",
       "      <td>83372</td>\n",
       "      <td>2020-01-03</td>\n",
       "      <td>74783</td>\n",
       "      <td>77385</td>\n",
       "      <td>1310.0</td>\n",
       "      <td>0.0</td>\n",
       "      <td>NaN</td>\n",
       "      <td>115.0</td>\n",
       "    </tr>\n",
       "    <tr>\n",
       "      <th>721276</th>\n",
       "      <td>83379</td>\n",
       "      <td>2020-01-03</td>\n",
       "      <td>40030</td>\n",
       "      <td>40030</td>\n",
       "      <td>2400.0</td>\n",
       "      <td>0.0</td>\n",
       "      <td>0.0</td>\n",
       "      <td>3600.0</td>\n",
       "    </tr>\n",
       "    <tr>\n",
       "      <th>721277</th>\n",
       "      <td>83398</td>\n",
       "      <td>2020-01-03</td>\n",
       "      <td>40333</td>\n",
       "      <td>127189</td>\n",
       "      <td>0.0</td>\n",
       "      <td>0.0</td>\n",
       "      <td>0.0</td>\n",
       "      <td>1620.0</td>\n",
       "    </tr>\n",
       "  </tbody>\n",
       "</table>\n",
       "</div>"
      ],
      "text/plain": [
       "        iPersonID   dtPeriod  iDistID  iManID    fSales   fCredit  \\\n",
       "721273      83347 2020-01-03    83347   83347  971314.0  378560.0   \n",
       "721274      83348 2020-01-03    83348   83348   84560.0   83650.0   \n",
       "721275      83372 2020-01-03    74783   77385    1310.0       0.0   \n",
       "721276      83379 2020-01-03    40030   40030    2400.0       0.0   \n",
       "721277      83398 2020-01-03    40333  127189       0.0       0.0   \n",
       "\n",
       "        fCreditPuer  fSalesPuer  \n",
       "721273     191630.0    319985.0  \n",
       "721274      87770.0     95245.0  \n",
       "721275          NaN       115.0  \n",
       "721276          0.0      3600.0  \n",
       "721277          0.0      1620.0  "
      ]
     },
     "execution_count": 4,
     "metadata": {},
     "output_type": "execute_result"
    }
   ],
   "source": [
    "df.tail()"
   ]
  },
  {
   "cell_type": "markdown",
   "metadata": {},
   "source": [
    "### **Zero-impute all missing values on sales and records:**"
   ]
  },
  {
   "cell_type": "code",
   "execution_count": 5,
   "metadata": {
    "jupyter": {
     "source_hidden": true
    }
   },
   "outputs": [
    {
     "data": {
      "text/html": [
       "<div>\n",
       "<style scoped>\n",
       "    .dataframe tbody tr th:only-of-type {\n",
       "        vertical-align: middle;\n",
       "    }\n",
       "\n",
       "    .dataframe tbody tr th {\n",
       "        vertical-align: top;\n",
       "    }\n",
       "\n",
       "    .dataframe thead th {\n",
       "        text-align: right;\n",
       "    }\n",
       "</style>\n",
       "<table border=\"1\" class=\"dataframe\">\n",
       "  <thead>\n",
       "    <tr style=\"text-align: right;\">\n",
       "      <th></th>\n",
       "      <th>iPersonID</th>\n",
       "      <th>dtPeriod</th>\n",
       "      <th>iDistID</th>\n",
       "      <th>iManID</th>\n",
       "      <th>fSales</th>\n",
       "      <th>fCredit</th>\n",
       "      <th>fCreditPuer</th>\n",
       "      <th>fSalesPuer</th>\n",
       "    </tr>\n",
       "  </thead>\n",
       "  <tbody>\n",
       "    <tr>\n",
       "      <th>0</th>\n",
       "      <td>40005</td>\n",
       "      <td>2017-01-01</td>\n",
       "      <td>40005</td>\n",
       "      <td>40005</td>\n",
       "      <td>0.0</td>\n",
       "      <td>0.0</td>\n",
       "      <td>0.0</td>\n",
       "      <td>1514.0</td>\n",
       "    </tr>\n",
       "    <tr>\n",
       "      <th>1</th>\n",
       "      <td>40008</td>\n",
       "      <td>2017-01-01</td>\n",
       "      <td>40008</td>\n",
       "      <td>40008</td>\n",
       "      <td>1879.0</td>\n",
       "      <td>0.0</td>\n",
       "      <td>0.0</td>\n",
       "      <td>0.0</td>\n",
       "    </tr>\n",
       "    <tr>\n",
       "      <th>2</th>\n",
       "      <td>40011</td>\n",
       "      <td>2017-01-01</td>\n",
       "      <td>40011</td>\n",
       "      <td>40011</td>\n",
       "      <td>4377.0</td>\n",
       "      <td>0.0</td>\n",
       "      <td>0.0</td>\n",
       "      <td>420.0</td>\n",
       "    </tr>\n",
       "    <tr>\n",
       "      <th>3</th>\n",
       "      <td>45898</td>\n",
       "      <td>2017-01-01</td>\n",
       "      <td>40005</td>\n",
       "      <td>40200</td>\n",
       "      <td>0.0</td>\n",
       "      <td>0.0</td>\n",
       "      <td>0.0</td>\n",
       "      <td>362.0</td>\n",
       "    </tr>\n",
       "    <tr>\n",
       "      <th>4</th>\n",
       "      <td>45921</td>\n",
       "      <td>2017-01-01</td>\n",
       "      <td>40005</td>\n",
       "      <td>40200</td>\n",
       "      <td>0.0</td>\n",
       "      <td>0.0</td>\n",
       "      <td>0.0</td>\n",
       "      <td>427.0</td>\n",
       "    </tr>\n",
       "  </tbody>\n",
       "</table>\n",
       "</div>"
      ],
      "text/plain": [
       "   iPersonID   dtPeriod  iDistID  iManID  fSales  fCredit  fCreditPuer  \\\n",
       "0      40005 2017-01-01    40005   40005     0.0      0.0          0.0   \n",
       "1      40008 2017-01-01    40008   40008  1879.0      0.0          0.0   \n",
       "2      40011 2017-01-01    40011   40011  4377.0      0.0          0.0   \n",
       "3      45898 2017-01-01    40005   40200     0.0      0.0          0.0   \n",
       "4      45921 2017-01-01    40005   40200     0.0      0.0          0.0   \n",
       "\n",
       "   fSalesPuer  \n",
       "0      1514.0  \n",
       "1         0.0  \n",
       "2       420.0  \n",
       "3       362.0  \n",
       "4       427.0  "
      ]
     },
     "execution_count": 5,
     "metadata": {},
     "output_type": "execute_result"
    }
   ],
   "source": [
    "df.fillna(0, inplace=True)\n",
    "df.head()"
   ]
  },
  {
   "cell_type": "markdown",
   "metadata": {},
   "source": [
    "### **Record attributes, number of records and number of consultants:**"
   ]
  },
  {
   "cell_type": "code",
   "execution_count": 6,
   "metadata": {
    "jupyter": {
     "source_hidden": true
    }
   },
   "outputs": [
    {
     "name": "stdout",
     "output_type": "stream",
     "text": [
      "The attributes of our data frames:\n",
      "iPersonID\n",
      "dtPeriod\n",
      "iDistID\n",
      "iManID\n",
      "fSales\n",
      "fCredit\n",
      "fCreditPuer\n",
      "fSalesPuer\n",
      "\n",
      "\n",
      "The number of records is: 721278\n",
      "The number of consultants is: 112489\n"
     ]
    }
   ],
   "source": [
    "print(\"The attributes of our data frames:\")\n",
    "for k in df.keys():\n",
    "    print(k)\n",
    "print('\\n')\n",
    "Number_of_Records = len(df)\n",
    "Number_of_consultants = len(df['iPersonID'].unique())\n",
    "print(\"The number of records is: {}\".format(Number_of_Records))\n",
    "print(\"The number of consultants is: {}\".format(Number_of_consultants))"
   ]
  },
  {
   "cell_type": "markdown",
   "metadata": {},
   "source": [
    "### **Aggregate Sales and Returns for Home category:**"
   ]
  },
  {
   "cell_type": "code",
   "execution_count": 7,
   "metadata": {
    "jupyter": {
     "source_hidden": true
    }
   },
   "outputs": [
    {
     "data": {
      "text/html": [
       "<div>\n",
       "<style scoped>\n",
       "    .dataframe tbody tr th:only-of-type {\n",
       "        vertical-align: middle;\n",
       "    }\n",
       "\n",
       "    .dataframe tbody tr th {\n",
       "        vertical-align: top;\n",
       "    }\n",
       "\n",
       "    .dataframe thead th {\n",
       "        text-align: right;\n",
       "    }\n",
       "</style>\n",
       "<table border=\"1\" class=\"dataframe\">\n",
       "  <thead>\n",
       "    <tr style=\"text-align: right;\">\n",
       "      <th></th>\n",
       "      <th>iPersonID</th>\n",
       "      <th>dtPeriod</th>\n",
       "      <th>iDistID</th>\n",
       "      <th>iManID</th>\n",
       "      <th>Home_net_Sales</th>\n",
       "    </tr>\n",
       "  </thead>\n",
       "  <tbody>\n",
       "    <tr>\n",
       "      <th>0</th>\n",
       "      <td>40005</td>\n",
       "      <td>2017-01-01</td>\n",
       "      <td>40005</td>\n",
       "      <td>40005</td>\n",
       "      <td>0.0</td>\n",
       "    </tr>\n",
       "    <tr>\n",
       "      <th>1</th>\n",
       "      <td>40008</td>\n",
       "      <td>2017-01-01</td>\n",
       "      <td>40008</td>\n",
       "      <td>40008</td>\n",
       "      <td>1879.0</td>\n",
       "    </tr>\n",
       "    <tr>\n",
       "      <th>2</th>\n",
       "      <td>40011</td>\n",
       "      <td>2017-01-01</td>\n",
       "      <td>40011</td>\n",
       "      <td>40011</td>\n",
       "      <td>4377.0</td>\n",
       "    </tr>\n",
       "    <tr>\n",
       "      <th>3</th>\n",
       "      <td>45898</td>\n",
       "      <td>2017-01-01</td>\n",
       "      <td>40005</td>\n",
       "      <td>40200</td>\n",
       "      <td>0.0</td>\n",
       "    </tr>\n",
       "    <tr>\n",
       "      <th>4</th>\n",
       "      <td>45921</td>\n",
       "      <td>2017-01-01</td>\n",
       "      <td>40005</td>\n",
       "      <td>40200</td>\n",
       "      <td>0.0</td>\n",
       "    </tr>\n",
       "  </tbody>\n",
       "</table>\n",
       "</div>"
      ],
      "text/plain": [
       "   iPersonID   dtPeriod  iDistID  iManID  Home_net_Sales\n",
       "0      40005 2017-01-01    40005   40005             0.0\n",
       "1      40008 2017-01-01    40008   40008          1879.0\n",
       "2      40011 2017-01-01    40011   40011          4377.0\n",
       "3      45898 2017-01-01    40005   40200             0.0\n",
       "4      45921 2017-01-01    40005   40200             0.0"
      ]
     },
     "execution_count": 7,
     "metadata": {},
     "output_type": "execute_result"
    }
   ],
   "source": [
    "df_home = copy.deepcopy(df)\n",
    "df_home['Home_net_Sales'] = df_home['fSales'] - df_home['fCredit']\n",
    "df_home.drop(['fSales','fCredit','fSalesPuer','fCreditPuer'], axis=1, inplace=True)\n",
    "df_home.head()"
   ]
  },
  {
   "cell_type": "markdown",
   "metadata": {},
   "source": [
    "### **Aggregate Sales and Returns for Puer category:**"
   ]
  },
  {
   "cell_type": "code",
   "execution_count": 8,
   "metadata": {
    "jupyter": {
     "source_hidden": true
    }
   },
   "outputs": [
    {
     "data": {
      "text/html": [
       "<div>\n",
       "<style scoped>\n",
       "    .dataframe tbody tr th:only-of-type {\n",
       "        vertical-align: middle;\n",
       "    }\n",
       "\n",
       "    .dataframe tbody tr th {\n",
       "        vertical-align: top;\n",
       "    }\n",
       "\n",
       "    .dataframe thead th {\n",
       "        text-align: right;\n",
       "    }\n",
       "</style>\n",
       "<table border=\"1\" class=\"dataframe\">\n",
       "  <thead>\n",
       "    <tr style=\"text-align: right;\">\n",
       "      <th></th>\n",
       "      <th>iPersonID</th>\n",
       "      <th>dtPeriod</th>\n",
       "      <th>iDistID</th>\n",
       "      <th>iManID</th>\n",
       "      <th>Puer_net_Sales</th>\n",
       "    </tr>\n",
       "  </thead>\n",
       "  <tbody>\n",
       "    <tr>\n",
       "      <th>0</th>\n",
       "      <td>40005</td>\n",
       "      <td>2017-01-01</td>\n",
       "      <td>40005</td>\n",
       "      <td>40005</td>\n",
       "      <td>1514.0</td>\n",
       "    </tr>\n",
       "    <tr>\n",
       "      <th>1</th>\n",
       "      <td>40008</td>\n",
       "      <td>2017-01-01</td>\n",
       "      <td>40008</td>\n",
       "      <td>40008</td>\n",
       "      <td>0.0</td>\n",
       "    </tr>\n",
       "    <tr>\n",
       "      <th>2</th>\n",
       "      <td>40011</td>\n",
       "      <td>2017-01-01</td>\n",
       "      <td>40011</td>\n",
       "      <td>40011</td>\n",
       "      <td>420.0</td>\n",
       "    </tr>\n",
       "    <tr>\n",
       "      <th>3</th>\n",
       "      <td>45898</td>\n",
       "      <td>2017-01-01</td>\n",
       "      <td>40005</td>\n",
       "      <td>40200</td>\n",
       "      <td>362.0</td>\n",
       "    </tr>\n",
       "    <tr>\n",
       "      <th>4</th>\n",
       "      <td>45921</td>\n",
       "      <td>2017-01-01</td>\n",
       "      <td>40005</td>\n",
       "      <td>40200</td>\n",
       "      <td>427.0</td>\n",
       "    </tr>\n",
       "  </tbody>\n",
       "</table>\n",
       "</div>"
      ],
      "text/plain": [
       "   iPersonID   dtPeriod  iDistID  iManID  Puer_net_Sales\n",
       "0      40005 2017-01-01    40005   40005          1514.0\n",
       "1      40008 2017-01-01    40008   40008             0.0\n",
       "2      40011 2017-01-01    40011   40011           420.0\n",
       "3      45898 2017-01-01    40005   40200           362.0\n",
       "4      45921 2017-01-01    40005   40200           427.0"
      ]
     },
     "execution_count": 8,
     "metadata": {},
     "output_type": "execute_result"
    }
   ],
   "source": [
    "df_Puer = copy.deepcopy(df)\n",
    "df_Puer['Puer_net_Sales'] = df_Puer['fSalesPuer'] - df_Puer['fCreditPuer']\n",
    "df_Puer.drop(['fSales','fCredit','fSalesPuer','fCreditPuer'], axis=1, inplace=True)\n",
    "df_Puer.head()"
   ]
  },
  {
   "cell_type": "markdown",
   "metadata": {},
   "source": [
    "### **Aggregate Sales and Returns for both categories:**"
   ]
  },
  {
   "cell_type": "code",
   "execution_count": 9,
   "metadata": {
    "jupyter": {
     "source_hidden": true
    }
   },
   "outputs": [
    {
     "data": {
      "text/html": [
       "<div>\n",
       "<style scoped>\n",
       "    .dataframe tbody tr th:only-of-type {\n",
       "        vertical-align: middle;\n",
       "    }\n",
       "\n",
       "    .dataframe tbody tr th {\n",
       "        vertical-align: top;\n",
       "    }\n",
       "\n",
       "    .dataframe thead th {\n",
       "        text-align: right;\n",
       "    }\n",
       "</style>\n",
       "<table border=\"1\" class=\"dataframe\">\n",
       "  <thead>\n",
       "    <tr style=\"text-align: right;\">\n",
       "      <th></th>\n",
       "      <th>iPersonID</th>\n",
       "      <th>dtPeriod</th>\n",
       "      <th>iDistID</th>\n",
       "      <th>iManID</th>\n",
       "      <th>Total_net_Sales</th>\n",
       "    </tr>\n",
       "  </thead>\n",
       "  <tbody>\n",
       "    <tr>\n",
       "      <th>0</th>\n",
       "      <td>40005</td>\n",
       "      <td>2017-01-01</td>\n",
       "      <td>40005</td>\n",
       "      <td>40005</td>\n",
       "      <td>1514.0</td>\n",
       "    </tr>\n",
       "    <tr>\n",
       "      <th>1</th>\n",
       "      <td>40008</td>\n",
       "      <td>2017-01-01</td>\n",
       "      <td>40008</td>\n",
       "      <td>40008</td>\n",
       "      <td>1879.0</td>\n",
       "    </tr>\n",
       "    <tr>\n",
       "      <th>2</th>\n",
       "      <td>40011</td>\n",
       "      <td>2017-01-01</td>\n",
       "      <td>40011</td>\n",
       "      <td>40011</td>\n",
       "      <td>4797.0</td>\n",
       "    </tr>\n",
       "    <tr>\n",
       "      <th>3</th>\n",
       "      <td>45898</td>\n",
       "      <td>2017-01-01</td>\n",
       "      <td>40005</td>\n",
       "      <td>40200</td>\n",
       "      <td>362.0</td>\n",
       "    </tr>\n",
       "    <tr>\n",
       "      <th>4</th>\n",
       "      <td>45921</td>\n",
       "      <td>2017-01-01</td>\n",
       "      <td>40005</td>\n",
       "      <td>40200</td>\n",
       "      <td>427.0</td>\n",
       "    </tr>\n",
       "  </tbody>\n",
       "</table>\n",
       "</div>"
      ],
      "text/plain": [
       "   iPersonID   dtPeriod  iDistID  iManID  Total_net_Sales\n",
       "0      40005 2017-01-01    40005   40005           1514.0\n",
       "1      40008 2017-01-01    40008   40008           1879.0\n",
       "2      40011 2017-01-01    40011   40011           4797.0\n",
       "3      45898 2017-01-01    40005   40200            362.0\n",
       "4      45921 2017-01-01    40005   40200            427.0"
      ]
     },
     "execution_count": 9,
     "metadata": {},
     "output_type": "execute_result"
    }
   ],
   "source": [
    "df_All_Categories = copy.deepcopy(df)\n",
    "df_All_Categories['Total_net_Sales'] = df_All_Categories['fSales'] - df_All_Categories['fCredit'] + df_All_Categories['fSalesPuer'] - df_All_Categories['fCreditPuer']\n",
    "df_All_Categories.drop(['fSales','fCredit','fSalesPuer','fCreditPuer'], axis=1, inplace=True)\n",
    "df_All_Categories.head()"
   ]
  },
  {
   "cell_type": "markdown",
   "metadata": {},
   "source": [
    "### **Sales consultant performance on Home products:**"
   ]
  },
  {
   "cell_type": "code",
   "execution_count": 10,
   "metadata": {
    "jupyter": {
     "source_hidden": true
    }
   },
   "outputs": [],
   "source": [
    "consultants = df_home.groupby('iPersonID')\n",
    "records_per_consultants = {}\n",
    "sales_per_consultants = {}\n",
    "for key in consultants.groups.keys():\n",
    "    records_per_consultants.update({key:len(consultants.get_group(key))})\n",
    "    sales_per_consultants.update({key:consultants.get_group(key)['Home_net_Sales'].sum()})"
   ]
  },
  {
   "cell_type": "markdown",
   "metadata": {},
   "source": [
    "#### **In terms of records:**"
   ]
  },
  {
   "cell_type": "code",
   "execution_count": 11,
   "metadata": {
    "jupyter": {
     "source_hidden": true
    }
   },
   "outputs": [
    {
     "name": "stdout",
     "output_type": "stream",
     "text": [
      "The percentage of sales consultants with less than 10 records: 0.7941487612122075%\n",
      "The percentage of sales consultants with less than 15 records: 0.8834374916658517%\n"
     ]
    },
    {
     "data": {
      "image/png": "[encoded data removed]",
      "text/plain": [
       "<Figure size 432x288 with 1 Axes>"
      ]
     },
     "metadata": {
      "needs_background": "light"
     },
     "output_type": "display_data"
    }
   ],
   "source": [
    "plt.hist(list(records_per_consultants.values()),bins=40)\n",
    "plt.title('Histogram of numbers of consultant per number of records')\n",
    "plt.xlabel('Number of records')\n",
    "plt.ylabel('Number of consultants')\n",
    "prop_10 = len([i for i in list(records_per_consultants.values()) if i < 10])/len(list(records_per_consultants.values()))\n",
    "prop_15 = len([i for i in list(records_per_consultants.values()) if i < 15])/len(list(records_per_consultants.values()))\n",
    "print(\"The percentage of sales consultants with less than 10 records: {}%\".format(prop_10))\n",
    "print(\"The percentage of sales consultants with less than 15 records: {}%\".format(prop_15))"
   ]
  },
  {
   "cell_type": "markdown",
   "metadata": {},
   "source": [
    "In the 3 years span, the number of records per sales consultants vary from 1 to 40 with 88% with less than 15 and 10% with less than 10 record: Is it because they recently joined, or they have left (some only in 2017, some only in 2019, etc.) or because of little sales???\n",
    "\n",
    "NB: The more the records, the more the sales values"
   ]
  },
  {
   "cell_type": "code",
   "execution_count": 45,
   "metadata": {},
   "outputs": [
    {
     "data": {
      "text/plain": [
       "Text(0, 0.5, 'Number of consultants')"
      ]
     },
     "execution_count": 45,
     "metadata": {},
     "output_type": "execute_result"
    },
    {
     "data": {
      "image/png": "[encoded data removed]",
      "text/plain": [
       "<Figure size 432x288 with 1 Axes>"
      ]
     },
     "metadata": {
      "needs_background": "light"
     },
     "output_type": "display_data"
    }
   ],
   "source": [
    "plt.hist(list(sales_per_consultants.values()),bins=150)\n",
    "plt.title('Histogram of numbers of consultant per sales value')\n",
    "plt.xlabel('Number of records')\n",
    "plt.ylabel('Number of consultants')"
   ]
  },
  {
   "cell_type": "markdown",
   "metadata": {},
   "source": [
    "#### **In terms of sales value:**"
   ]
  },
  {
   "cell_type": "code",
   "execution_count": 18,
   "metadata": {
    "jupyter": {
     "source_hidden": true
    }
   },
   "outputs": [
    {
     "name": "stdout",
     "output_type": "stream",
     "text": [
      "The sales consultant with the most sales for home products is ID:83347.\n",
      "The number of records is 39 and the sales value of R 2715621.0.\n",
      "\n",
      "The sales consultant with the least sales for home products is ID:275952.\n",
      "The number of records is 1 and the sales value of R -1240.0.\n",
      "\n",
      "The total sales value for home products: R 1054542118.0080034\n",
      "\n"
     ]
    },
    {
     "data": {
      "image/png": "[encoded data removed]",
      "text/plain": [
       "<Figure size 432x288 with 1 Axes>"
      ]
     },
     "metadata": {
      "needs_background": "light"
     },
     "output_type": "display_data"
    }
   ],
   "source": [
    "List = list(sales_per_consultants.keys())\n",
    "List1 = list(sales_per_consultants.values())\n",
    "plt.plot(List,List1)\n",
    "Most_sales = max(List1)\n",
    "Most_sales_idx = List1.index(max(List1))\n",
    "Least_sales = min(List1)\n",
    "Least_sales_idx = List1.index(min(List1))\n",
    "print('The sales consultant with the most sales for home products is ID:{}.'.format(List[Most_sales_idx]))\n",
    "print('The number of records is {} and the sales value of R {}.\\n'.format(len(consultants.get_group(List[Most_sales_idx])),Most_sales))\n",
    "\n",
    "print('The sales consultant with the least sales for home products is ID:{}.'.format(List[Least_sales_idx]))\n",
    "print('The number of records is {} and the sales value of R {}.\\n'.format(len(consultants.get_group(List[Least_sales_idx])),Least_sales))\n",
    "\n",
    "print('The total sales value for home products: R {}\\n'.format(sum(list(sales_per_consultants.values()))))"
   ]
  },
  {
   "cell_type": "markdown",
   "metadata": {},
   "source": [
    "#### **More sales stats:**"
   ]
  },
  {
   "cell_type": "code",
   "execution_count": 43,
   "metadata": {
    "jupyter": {
     "source_hidden": true
    }
   },
   "outputs": [
    {
     "data": {
      "text/plain": [
       "count    1.124890e+05\n",
       "mean     6.143482e+03\n",
       "std      1.486357e+04\n",
       "min     -1.390000e+03\n",
       "25%      7.120000e+02\n",
       "50%      2.200000e+03\n",
       "75%      6.105000e+03\n",
       "max      1.282688e+06\n",
       "dtype: float64"
      ]
     },
     "execution_count": 43,
     "metadata": {},
     "output_type": "execute_result"
    }
   ],
   "source": [
    "pd.Series(list(sales_per_consultants.values())).describe()"
   ]
  },
  {
   "cell_type": "markdown",
   "metadata": {},
   "source": [
    "### **Sales consultant performance on Puer products:**"
   ]
  },
  {
   "cell_type": "code",
   "execution_count": 40,
   "metadata": {
    "jupyter": {
     "source_hidden": true
    }
   },
   "outputs": [],
   "source": [
    "consultants = df_Puer.groupby('iPersonID')\n",
    "records_per_consultants = {}\n",
    "sales_per_consultants = {}\n",
    "for key in consultants.groups.keys():\n",
    "    records_per_consultants.update({key:len(consultants.get_group(key))})\n",
    "    sales_per_consultants.update({key:consultants.get_group(key)['Puer_net_Sales'].sum()})"
   ]
  },
  {
   "cell_type": "markdown",
   "metadata": {},
   "source": [
    "#### **In terms of records: Same as previous**"
   ]
  },
  {
   "cell_type": "code",
   "execution_count": 41,
   "metadata": {
    "collapsed": true,
    "jupyter": {
     "outputs_hidden": true,
     "source_hidden": true
    }
   },
   "outputs": [
    {
     "name": "stdout",
     "output_type": "stream",
     "text": [
      "The percentage of sales consultants with less than 10 records: 0.7941487612122075%\n",
      "The percentage of sales consultants with less than 15 records: 0.8834374916658517%\n"
     ]
    },
    {
     "data": {
      "image/png": "[encoded data removed]",
      "text/plain": [
       "<Figure size 432x288 with 1 Axes>"
      ]
     },
     "metadata": {
      "needs_background": "light"
     },
     "output_type": "display_data"
    }
   ],
   "source": [
    "plt.hist(list(records_per_consultants.values()),bins=40)\n",
    "prop_10 = len([i for i in list(records_per_consultants.values()) if i < 10])/len(list(records_per_consultants.values()))\n",
    "prop_15 = len([i for i in list(records_per_consultants.values()) if i < 15])/len(list(records_per_consultants.values()))\n",
    "print(\"The percentage of sales consultants with less than 10 records: {}%\".format(prop_10))\n",
    "print(\"The percentage of sales consultants with less than 15 records: {}%\".format(prop_15))"
   ]
  },
  {
   "cell_type": "markdown",
   "metadata": {
    "jupyter": {
     "source_hidden": true
    }
   },
   "source": [
    "In the 3 years span, the number of records per sales consultants vary from 1 to 40 with X% with less than 15 and X with less than 10 record: Is it because they recently joined, or they have left (some only in 2017, some only in 2019, etc.) or because of little sales???\n",
    "\n",
    "NB: The more the records, the more the sales values"
   ]
  },
  {
   "cell_type": "code",
   "execution_count": 46,
   "metadata": {
    "jupyter": {
     "source_hidden": true
    }
   },
   "outputs": [
    {
     "data": {
      "text/plain": [
       "Text(0, 0.5, 'Number of consultants')"
      ]
     },
     "execution_count": 46,
     "metadata": {},
     "output_type": "execute_result"
    },
    {
     "data": {
      "image/png": "[encoded data removed]",
      "text/plain": [
       "<Figure size 432x288 with 1 Axes>"
      ]
     },
     "metadata": {
      "needs_background": "light"
     },
     "output_type": "display_data"
    }
   ],
   "source": [
    "plt.hist(list(sales_per_consultants.values()),bins=150)\n",
    "plt.title('Histogram of numbers of consultant per sales value')\n",
    "plt.xlabel('Number of records')\n",
    "plt.ylabel('Number of consultants')"
   ]
  },
  {
   "cell_type": "markdown",
   "metadata": {},
   "source": [
    "#### **In terms of sales value:**"
   ]
  },
  {
   "cell_type": "code",
   "execution_count": 39,
   "metadata": {
    "jupyter": {
     "source_hidden": true
    }
   },
   "outputs": [
    {
     "name": "stdout",
     "output_type": "stream",
     "text": [
      "The sales consultant with the most sales for home products is ID:83347.\n",
      "The number of records is 39 and the sales value of R 3998309.0.\n",
      "\n",
      "The sales consultant with the least sales for home products is ID:359539.\n",
      "The number of records is 2 and the sales value of R -2630.0.\n",
      "\n",
      "The total sales value for home products: R 1745616318.0379977\n",
      "\n"
     ]
    },
    {
     "data": {
      "image/png": "[encoded data removed]",
      "text/plain": [
       "<Figure size 432x288 with 1 Axes>"
      ]
     },
     "metadata": {
      "needs_background": "light"
     },
     "output_type": "display_data"
    }
   ],
   "source": [
    "List = list(sales_per_consultants.keys())\n",
    "List2 = list(sales_per_consultants.values())\n",
    "plt.plot(List,List2)\n",
    "Most_sales = max(List2)\n",
    "Most_sales_idx = List2.index(max(List2))\n",
    "Least_sales = min(List2)\n",
    "Least_sales_idx = List2.index(min(List2))\n",
    "print('The sales consultant with the most sales for home products is ID:{}.'.format(List[Most_sales_idx]))\n",
    "print('The number of records is {} and the sales value of R {}.\\n'.format(len(consultants.get_group(List[Most_sales_idx])),Most_sales))\n",
    "\n",
    "print('The sales consultant with the least sales for home products is ID:{}.'.format(List[Least_sales_idx]))\n",
    "print('The number of records is {} and the sales value of R {}.\\n'.format(len(consultants.get_group(List[Least_sales_idx])),Least_sales))\n",
    "\n",
    "print('The total sales value for home products: R {}\\n'.format(sum(list(sales_per_consultants.values()))))"
   ]
  },
  {
   "cell_type": "markdown",
   "metadata": {},
   "source": [
    "#### **More sales stats:**"
   ]
  },
  {
   "cell_type": "code",
   "execution_count": 44,
   "metadata": {
    "jupyter": {
     "source_hidden": true
    }
   },
   "outputs": [
    {
     "data": {
      "text/plain": [
       "count    1.124890e+05\n",
       "mean     6.143482e+03\n",
       "std      1.486357e+04\n",
       "min     -1.390000e+03\n",
       "25%      7.120000e+02\n",
       "50%      2.200000e+03\n",
       "75%      6.105000e+03\n",
       "max      1.282688e+06\n",
       "dtype: float64"
      ]
     },
     "execution_count": 44,
     "metadata": {},
     "output_type": "execute_result"
    }
   ],
   "source": [
    "pd.Series(list(sales_per_consultants.values())).describe()"
   ]
  },
  {
   "cell_type": "markdown",
   "metadata": {},
   "source": [
    "### **Sales consultant performance on all products:**"
   ]
  },
  {
   "cell_type": "code",
   "execution_count": 25,
   "metadata": {
    "jupyter": {
     "source_hidden": true
    }
   },
   "outputs": [],
   "source": [
    "consultants = df_All_Categories.groupby('iPersonID')\n",
    "records_per_consultants = {}\n",
    "sales_per_consultants = {}\n",
    "for key in consultants.groups.keys():\n",
    "    records_per_consultants.update({key:len(consultants.get_group(key))})\n",
    "    sales_per_consultants.update({key:consultants.get_group(key)['Total_net_Sales'].sum()})"
   ]
  },
  {
   "cell_type": "markdown",
   "metadata": {
    "jupyter": {
     "source_hidden": true
    }
   },
   "source": [
    "#### **In terms of records:**"
   ]
  },
  {
   "cell_type": "code",
   "execution_count": 28,
   "metadata": {
    "collapsed": true,
    "jupyter": {
     "outputs_hidden": true,
     "source_hidden": true
    }
   },
   "outputs": [
    {
     "name": "stdout",
     "output_type": "stream",
     "text": [
      "The percentage of sales consultants with less than 10 records: 0.7941487612122075%\n",
      "The percentage of sales consultants with less than 15 records: 0.8834374916658517%\n"
     ]
    },
    {
     "data": {
      "image/png": "[encoded data removed]",
      "text/plain": [
       "<Figure size 432x288 with 1 Axes>"
      ]
     },
     "metadata": {
      "needs_background": "light"
     },
     "output_type": "display_data"
    }
   ],
   "source": [
    "plt.hist(list(records_per_consultants.values()),bins=40)\n",
    "prop_10 = len([i for i in list(records_per_consultants.values()) if i < 10])/len(list(records_per_consultants.values()))\n",
    "prop_15 = len([i for i in list(records_per_consultants.values()) if i < 15])/len(list(records_per_consultants.values()))\n",
    "print(\"The percentage of sales consultants with less than 10 records: {}%\".format(prop_10))\n",
    "print(\"The percentage of sales consultants with less than 15 records: {}%\".format(prop_15))"
   ]
  },
  {
   "cell_type": "markdown",
   "metadata": {
    "jupyter": {
     "source_hidden": true
    }
   },
   "source": [
    "In the 3 years span, the number of records per sales consultants vary from 1 to 40 with X% with less than 15 and X with less than 10 record: Is it because they recently joined, or they have left (some only in 2017, some only in 2019, etc.) or because of little sales???\n",
    "\n",
    "NB: The more the records, the more the sales values"
   ]
  },
  {
   "cell_type": "code",
   "execution_count": 47,
   "metadata": {},
   "outputs": [
    {
     "data": {
      "text/plain": [
       "Text(0, 0.5, 'Number of consultants')"
      ]
     },
     "execution_count": 47,
     "metadata": {},
     "output_type": "execute_result"
    },
    {
     "data": {
      "image/png": "[encoded data removed]",
      "text/plain": [
       "<Figure size 432x288 with 1 Axes>"
      ]
     },
     "metadata": {
      "needs_background": "light"
     },
     "output_type": "display_data"
    }
   ],
   "source": [
    "plt.hist(list(sales_per_consultants.values()),bins=150)\n",
    "plt.title('Histogram of numbers of consultant per sales value')\n",
    "plt.xlabel('Number of records')\n",
    "plt.ylabel('Number of consultants')"
   ]
  },
  {
   "cell_type": "markdown",
   "metadata": {},
   "source": [
    "#### **In terms of sales:**"
   ]
  },
  {
   "cell_type": "code",
   "execution_count": 32,
   "metadata": {
    "jupyter": {
     "source_hidden": true
    }
   },
   "outputs": [
    {
     "name": "stdout",
     "output_type": "stream",
     "text": [
      "The sales consultant with the most sales for home products is ID:83347.\n",
      "The number of records is 39 and the sales value of R 3998309.0.\n",
      "\n",
      "The sales consultant with the least sales for home products is ID:359539.\n",
      "The number of records is 2 and the sales value of R -2630.0.\n",
      "\n",
      "The total sales value for home products: R 1745616318.0379977\n",
      "\n"
     ]
    },
    {
     "data": {
      "image/png": "[encoded data removed]",
      "text/plain": [
       "<Figure size 432x288 with 1 Axes>"
      ]
     },
     "metadata": {
      "needs_background": "light"
     },
     "output_type": "display_data"
    }
   ],
   "source": [
    "List = list(sales_per_consultants.keys())\n",
    "List3 = list(sales_per_consultants.values())\n",
    "plt.plot(List,List3)\n",
    "Most_sales = max(List3)\n",
    "Most_sales_idx = List3.index(max(List3))\n",
    "Least_sales = min(List3)\n",
    "Least_sales_idx = List3.index(min(List3))\n",
    "print('The sales consultant with the most sales for home products is ID:{}.'.format(List[Most_sales_idx]))\n",
    "print('The number of records is {} and the sales value of R {}.\\n'.format(len(consultants.get_group(List[Most_sales_idx])),Most_sales))\n",
    "\n",
    "print('The sales consultant with the least sales for home products is ID:{}.'.format(List[Least_sales_idx]))\n",
    "print('The number of records is {} and the sales value of R {}.\\n'.format(len(consultants.get_group(List[Least_sales_idx])),Least_sales))\n",
    "\n",
    "print('The total sales value for home products: R {}\\n'.format(sum(list(sales_per_consultants.values()))))"
   ]
  },
  {
   "cell_type": "markdown",
   "metadata": {},
   "source": [
    "#### **More sales stats:**"
   ]
  },
  {
   "cell_type": "code",
   "execution_count": 33,
   "metadata": {
    "jupyter": {
     "source_hidden": true
    }
   },
   "outputs": [
    {
     "data": {
      "text/plain": [
       "count    1.124890e+05\n",
       "mean     1.551811e+04\n",
       "std      3.380726e+04\n",
       "min     -2.630000e+03\n",
       "25%      2.250000e+03\n",
       "50%      5.985000e+03\n",
       "75%      1.603500e+04\n",
       "max      3.998309e+06\n",
       "dtype: float64"
      ]
     },
     "execution_count": 33,
     "metadata": {},
     "output_type": "execute_result"
    }
   ],
   "source": [
    "pd.Series(list(sales_per_consultants.values())).describe()"
   ]
  },
  {
   "cell_type": "markdown",
   "metadata": {},
   "source": [
    "### **Further investigation:**"
   ]
  },
  {
   "cell_type": "markdown",
   "metadata": {},
   "source": [
    "**1) The sales value distribution is similar showing the the sales performance is consistent across categories --> How statistically significant is that claim can be tested.** <br/>"
   ]
  },
  {
   "cell_type": "code",
   "execution_count": 38,
   "metadata": {
    "jupyter": {
     "source_hidden": true
    }
   },
   "outputs": [
    {
     "data": {
      "image/png": "[encoded data removed]",
      "text/plain": [
       "<Figure size 576x720 with 3 Axes>"
      ]
     },
     "metadata": {
      "needs_background": "light"
     },
     "output_type": "display_data"
    }
   ],
   "source": [
    "plt.figure(figsize=(8,10))\n",
    "plt.subplot(311)\n",
    "plt.plot(List,List1)\n",
    "plt.title('Sales distribution for all categories')\n",
    "plt.xlabel('Sales consultant')\n",
    "plt.subplot(312)\n",
    "plt.plot(List,List2)\n",
    "plt.xlabel('Sales consultant')\n",
    "plt.subplot(313)\n",
    "plt.plot(List,List3)\n",
    "plt.xlabel('Sales consultant')\n",
    "plt.ylabel('Sales value')\n",
    "plt.show()"
   ]
  },
  {
   "cell_type": "markdown",
   "metadata": {},
   "source": [
    "**2) The manager’s performance (record and sales).** <br/>\n",
    "**3) The distributer’s performance (record and sales).** <br/>\n",
    "**4) Is their consistant increased sales performance when sales consultantrs are also  distributors and managers?** <br/>\n",
    "**5) Make use a random forest regressor to predict sales (or at least ranges) given all this attributes (sales consultant, distributor, manager, month of the year).**"
   ]
  }
 ],
 "metadata": {
  "kernelspec": {
   "display_name": "Python 3",
   "language": "python",
   "name": "python3"
  },
  "language_info": {
   "codemirror_mode": {
    "name": "ipython",
    "version": 3
   },
   "file_extension": ".py",
   "mimetype": "text/x-python",
   "name": "python",
   "nbconvert_exporter": "python",
   "pygments_lexer": "ipython3",
   "version": "3.7.6"
  }
 },
 "nbformat": 4,
 "nbformat_minor": 4
}
